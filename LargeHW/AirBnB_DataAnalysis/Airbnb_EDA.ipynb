{
 "cells": [
  {
   "cell_type": "markdown",
   "id": "b1f0279e-f8af-4079-af42-ac6bad50bfb8",
   "metadata": {},
   "source": [
    "## Airbnb Dataset Analysis"
   ]
  },
  {
   "cell_type": "markdown",
   "id": "1596d825",
   "metadata": {},
   "source": [
    "The dataset used in this assignment is derived from Inside Airbnb, available [here](http://data.insideairbnb.com/the-netherlands/north-holland/amsterdam/2023-06-05/visualisations/listings.csv). It is licensed under a [Creative Commons Attribution 4.0 International License](https://creativecommons.org/licenses/by/4.0/).\n",
    "\n",
    "**Please note that this dataset has been modified and adapted for the scope of this analysis. If you are interested in the original data or further Airbnb datasets, we encourage you to visit Inside Airbnb's website: [insideairbnb.com](http://insideairbnb.com).**\n"
   ]
  },
  {
   "cell_type": "markdown",
   "id": "8b607200-74f5-436a-95e1-b3d9d8f0518f",
   "metadata": {},
   "source": [
    "<h3> This analysis task is divided into two main components: </h3>\n",
    "\n",
    "1. **Data Manipulation**: Focused on cleaning and preparing the dataset.\n",
    "2. **Exploratory Data Analysis (EDA)**: Concentrated on analyzing and interpreting the data."
   ]
  },
  {
   "cell_type": "markdown",
   "id": "f2900ce9",
   "metadata": {},
   "source": [
    "# PART-1 (Data Cleaning and Manipulation)\n",
    "\n",
    "We will begin by importing the required modules and reading the data file."
   ]
  },
  {
   "cell_type": "code",
   "execution_count": 145,
   "id": "82a7ff87-b67e-4670-83b6-5725b6abea96",
   "metadata": {
    "tags": []
   },
   "outputs": [],
   "source": [
    "import numpy as np\n",
    "import pandas as pd\n",
    "import seaborn as sns\n",
    "from scipy import stats\n",
    "import matplotlib.pyplot as plt\n",
    "%matplotlib inline"
   ]
  },
  {
   "cell_type": "code",
   "execution_count": 146,
   "id": "3e33b6df-3ad0-418e-8088-958ddd75adb3",
   "metadata": {
    "tags": []
   },
   "outputs": [],
   "source": [
    "df = pd.read_csv(\"D:\\\\airbnb_final.csv\")"
   ]
  },
  {
   "cell_type": "code",
   "execution_count": 147,
   "id": "aa26a70a-e210-484c-9a9f-5bc3d87ffa8d",
   "metadata": {},
   "outputs": [
    {
     "name": "stdout",
     "output_type": "stream",
     "text": [
      "<class 'pandas.core.frame.DataFrame'>\n",
      "RangeIndex: 7608 entries, 0 to 7607\n",
      "Data columns (total 15 columns):\n",
      " #   Column            Non-Null Count  Dtype  \n",
      "---  ------            --------------  -----  \n",
      " 0   host_id           7602 non-null   float64\n",
      " 1   neighbourhood     7608 non-null   object \n",
      " 2   latitude          7604 non-null   float64\n",
      " 3   longitude         7602 non-null   float64\n",
      " 4   room_type         7608 non-null   object \n",
      " 5   price in $        7598 non-null   float64\n",
      " 6   minimum_nights    7599 non-null   float64\n",
      " 7   availability_365  7607 non-null   float64\n",
      " 8   Apartment_type    7607 non-null   object \n",
      " 9   City              7607 non-null   object \n",
      " 10  Rating            6030 non-null   float64\n",
      " 11  No_of_bed_rooms   7324 non-null   float64\n",
      " 12  No_of_beds        7591 non-null   float64\n",
      " 13  No_of_bathrooms   6804 non-null   float64\n",
      " 14  Bathroom_type     7607 non-null   object \n",
      "dtypes: float64(10), object(5)\n",
      "memory usage: 891.7+ KB\n"
     ]
    }
   ],
   "source": [
    "df.info()"
   ]
  },
  {
   "cell_type": "code",
   "execution_count": 148,
   "id": "671c2085-939c-4304-8020-8beb6a28818d",
   "metadata": {},
   "outputs": [
    {
     "data": {
      "text/html": [
       "<div>\n",
       "<style scoped>\n",
       "    .dataframe tbody tr th:only-of-type {\n",
       "        vertical-align: middle;\n",
       "    }\n",
       "\n",
       "    .dataframe tbody tr th {\n",
       "        vertical-align: top;\n",
       "    }\n",
       "\n",
       "    .dataframe thead th {\n",
       "        text-align: right;\n",
       "    }\n",
       "</style>\n",
       "<table border=\"1\" class=\"dataframe\">\n",
       "  <thead>\n",
       "    <tr style=\"text-align: right;\">\n",
       "      <th></th>\n",
       "      <th>host_id</th>\n",
       "      <th>neighbourhood</th>\n",
       "      <th>latitude</th>\n",
       "      <th>longitude</th>\n",
       "      <th>room_type</th>\n",
       "      <th>price in $</th>\n",
       "      <th>minimum_nights</th>\n",
       "      <th>availability_365</th>\n",
       "      <th>Apartment_type</th>\n",
       "      <th>City</th>\n",
       "      <th>Rating</th>\n",
       "      <th>No_of_bed_rooms</th>\n",
       "      <th>No_of_beds</th>\n",
       "      <th>No_of_bathrooms</th>\n",
       "      <th>Bathroom_type</th>\n",
       "    </tr>\n",
       "  </thead>\n",
       "  <tbody>\n",
       "    <tr>\n",
       "      <th>0</th>\n",
       "      <td>3159.0</td>\n",
       "      <td>Oostelijk Havengebied - Indische Buurt</td>\n",
       "      <td>52.36435</td>\n",
       "      <td>4.94358</td>\n",
       "      <td>Private room</td>\n",
       "      <td>69.0</td>\n",
       "      <td>3.0</td>\n",
       "      <td>7.0</td>\n",
       "      <td>Condo</td>\n",
       "      <td>Amsterdam</td>\n",
       "      <td>4.89</td>\n",
       "      <td>1.0</td>\n",
       "      <td>1.0</td>\n",
       "      <td>1.5</td>\n",
       "      <td>shared</td>\n",
       "    </tr>\n",
       "    <tr>\n",
       "      <th>1</th>\n",
       "      <td>59484.0</td>\n",
       "      <td>Centrum-Oost</td>\n",
       "      <td>52.36407</td>\n",
       "      <td>4.89393</td>\n",
       "      <td>Private room</td>\n",
       "      <td>106.0</td>\n",
       "      <td>1.0</td>\n",
       "      <td>0.0</td>\n",
       "      <td>Townhouse</td>\n",
       "      <td>Amsterdam</td>\n",
       "      <td>4.44</td>\n",
       "      <td>1.0</td>\n",
       "      <td>1.0</td>\n",
       "      <td>NaN</td>\n",
       "      <td>private</td>\n",
       "    </tr>\n",
       "    <tr>\n",
       "      <th>2</th>\n",
       "      <td>1100324.0</td>\n",
       "      <td>De Pijp - Rivierenbuurt</td>\n",
       "      <td>52.35150</td>\n",
       "      <td>4.89656</td>\n",
       "      <td>Entire home/apt</td>\n",
       "      <td>270.0</td>\n",
       "      <td>4.0</td>\n",
       "      <td>2.0</td>\n",
       "      <td>Rental unit</td>\n",
       "      <td>Amsterdam</td>\n",
       "      <td>4.86</td>\n",
       "      <td>3.0</td>\n",
       "      <td>3.0</td>\n",
       "      <td>1.5</td>\n",
       "      <td>private</td>\n",
       "    </tr>\n",
       "    <tr>\n",
       "      <th>3</th>\n",
       "      <td>748161.0</td>\n",
       "      <td>Oud-Oost</td>\n",
       "      <td>52.36420</td>\n",
       "      <td>4.92829</td>\n",
       "      <td>Entire home/apt</td>\n",
       "      <td>200.0</td>\n",
       "      <td>3.0</td>\n",
       "      <td>0.0</td>\n",
       "      <td>Rental unit</td>\n",
       "      <td>Amsterdam</td>\n",
       "      <td>4.76</td>\n",
       "      <td>1.0</td>\n",
       "      <td>1.0</td>\n",
       "      <td>1.5</td>\n",
       "      <td>private</td>\n",
       "    </tr>\n",
       "    <tr>\n",
       "      <th>4</th>\n",
       "      <td>97647.0</td>\n",
       "      <td>Centrum-West</td>\n",
       "      <td>52.38761</td>\n",
       "      <td>4.89188</td>\n",
       "      <td>Private room</td>\n",
       "      <td>137.0</td>\n",
       "      <td>3.0</td>\n",
       "      <td>0.0</td>\n",
       "      <td>Houseboat</td>\n",
       "      <td>Amsterdam</td>\n",
       "      <td>4.94</td>\n",
       "      <td>1.0</td>\n",
       "      <td>1.0</td>\n",
       "      <td>1.5</td>\n",
       "      <td>private</td>\n",
       "    </tr>\n",
       "  </tbody>\n",
       "</table>\n",
       "</div>"
      ],
      "text/plain": [
       "     host_id                           neighbourhood  latitude  longitude  \\\n",
       "0     3159.0  Oostelijk Havengebied - Indische Buurt  52.36435    4.94358   \n",
       "1    59484.0                            Centrum-Oost  52.36407    4.89393   \n",
       "2  1100324.0                 De Pijp - Rivierenbuurt  52.35150    4.89656   \n",
       "3   748161.0                                Oud-Oost  52.36420    4.92829   \n",
       "4    97647.0                            Centrum-West  52.38761    4.89188   \n",
       "\n",
       "         room_type  price in $  minimum_nights  availability_365  \\\n",
       "0     Private room        69.0             3.0               7.0   \n",
       "1     Private room       106.0             1.0               0.0   \n",
       "2  Entire home/apt       270.0             4.0               2.0   \n",
       "3  Entire home/apt       200.0             3.0               0.0   \n",
       "4     Private room       137.0             3.0               0.0   \n",
       "\n",
       "  Apartment_type       City  Rating  No_of_bed_rooms  No_of_beds  \\\n",
       "0          Condo  Amsterdam    4.89              1.0         1.0   \n",
       "1      Townhouse  Amsterdam    4.44              1.0         1.0   \n",
       "2    Rental unit  Amsterdam    4.86              3.0         3.0   \n",
       "3    Rental unit  Amsterdam    4.76              1.0         1.0   \n",
       "4      Houseboat  Amsterdam    4.94              1.0         1.0   \n",
       "\n",
       "   No_of_bathrooms Bathroom_type  \n",
       "0              1.5        shared  \n",
       "1              NaN       private  \n",
       "2              1.5       private  \n",
       "3              1.5       private  \n",
       "4              1.5       private  "
      ]
     },
     "execution_count": 148,
     "metadata": {},
     "output_type": "execute_result"
    }
   ],
   "source": [
    "df.head()"
   ]
  },
  {
   "cell_type": "markdown",
   "id": "c065dce8",
   "metadata": {},
   "source": [
    "### 1.1. **Finding the shape of the dataset**"
   ]
  },
  {
   "cell_type": "code",
   "execution_count": 150,
   "id": "24dcb753-4172-43d8-b484-081f9ebbbaa2",
   "metadata": {
    "tags": []
   },
   "outputs": [
    {
     "data": {
      "text/plain": [
       "(7608, 15)"
      ]
     },
     "execution_count": 150,
     "metadata": {},
     "output_type": "execute_result"
    }
   ],
   "source": [
    "#Code for checking the shape\n",
    "df.shape"
   ]
  },
  {
   "cell_type": "markdown",
   "id": "53955378",
   "metadata": {},
   "source": [
    "### 1.2 **Identify the data types of each column and find columns that need type conversion**"
   ]
  },
  {
   "cell_type": "code",
   "execution_count": 152,
   "id": "26c488ac-4992-4e8f-b3bb-e31ce5373c20",
   "metadata": {
    "tags": []
   },
   "outputs": [
    {
     "name": "stdout",
     "output_type": "stream",
     "text": [
      " Data Types of Columns : \n",
      " {'host_id': dtype('float64'), 'room_type': dtype('O'), 'Rating': dtype('float64'), 'Bathroom_type': dtype('O'), 'latitude': dtype('float64'), 'No_of_bed_rooms': dtype('float64'), 'longitude': dtype('float64'), 'availability_365': dtype('float64'), 'City': dtype('O'), 'No_of_beds': dtype('float64'), 'No_of_bathrooms': dtype('float64'), 'minimum_nights': dtype('float64'), 'price in $': dtype('float64'), 'Apartment_type': dtype('O'), 'neighbourhood': dtype('O')}\n"
     ]
    }
   ],
   "source": [
    "# 1.2.1 Code to identify data types.\n",
    "''' \n",
    "Created a checkDType function to get data type information\n",
    "1. looping through the columns of the data frame. \n",
    "2. Inserting to the dictionary as a key(column) value (datatype) pair.\n",
    "'''\n",
    "columnDict = {}       # defining empty dictionary\n",
    "def checkDType(df):\n",
    "    # check for every columns\n",
    "    dfColumn = df.columns\n",
    "    columnSet = set(dfColumn)       # convert list to set to navigate through elements\n",
    "    for col in columnSet:\n",
    "        columnDict[col] = df[col].dtype\n",
    "    print(f\" Data Types of Columns : \\n {columnDict}\")\n",
    "    \n",
    "checkDType(df)"
   ]
  },
  {
   "cell_type": "raw",
   "id": "32fcd176-c3ba-4b11-b599-1443f4bfde7f",
   "metadata": {},
   "source": [
    "1.2.2 List the columns that need their data type changed.\n",
    "columns that need datatype change are :\n",
    "['host_id', 'minimum_nights', 'availability_365', 'No_of_beds', 'No_of_bed_rooms', 'No_of_bathrooms']\n",
    "The data types changes are assumed on the basis of the nature of the column name and data they store. "
   ]
  },
  {
   "cell_type": "code",
   "execution_count": 153,
   "id": "5fd686a9-b4f8-49af-8b1c-0423374cdbbc",
   "metadata": {
    "tags": []
   },
   "outputs": [],
   "source": [
    "# # 1.2.3 change the columns datatype that need type conversion.\n",
    "'''\n",
    "Change datatype of all the column that require type change. Columns contains float64 data type which is a numeric but due to the data value \n",
    "integer data types also suitable for the column in order to reduce the memory allocation by higher order datatypes.\n",
    "\n",
    "1. All the columns are stored in a set\n",
    "2. Iterated over every element\n",
    "3. Fill with 0 to handle any type conversion issue due to missing value.\n",
    "\n",
    "'''\n",
    "listOfColumnstoChangeDataType = {'host_id', 'minimum_nights', 'availability_365', 'No_of_beds', 'No_of_bed_rooms', 'No_of_bathrooms'}\n",
    "\n",
    "for ele in listOfColumnstoChangeDataType:\n",
    "    df[ele] = df[ele].fillna(0).astype(int)\n"
   ]
  },
  {
   "cell_type": "code",
   "execution_count": 154,
   "id": "abda4323-f440-400f-b772-077530d31c3d",
   "metadata": {},
   "outputs": [
    {
     "name": "stdout",
     "output_type": "stream",
     "text": [
      "<class 'pandas.core.frame.DataFrame'>\n",
      "RangeIndex: 7608 entries, 0 to 7607\n",
      "Data columns (total 15 columns):\n",
      " #   Column            Non-Null Count  Dtype  \n",
      "---  ------            --------------  -----  \n",
      " 0   host_id           7608 non-null   int32  \n",
      " 1   neighbourhood     7608 non-null   object \n",
      " 2   latitude          7604 non-null   float64\n",
      " 3   longitude         7602 non-null   float64\n",
      " 4   room_type         7608 non-null   object \n",
      " 5   price in $        7598 non-null   float64\n",
      " 6   minimum_nights    7608 non-null   int32  \n",
      " 7   availability_365  7608 non-null   int32  \n",
      " 8   Apartment_type    7607 non-null   object \n",
      " 9   City              7607 non-null   object \n",
      " 10  Rating            6030 non-null   float64\n",
      " 11  No_of_bed_rooms   7608 non-null   int32  \n",
      " 12  No_of_beds        7608 non-null   int32  \n",
      " 13  No_of_bathrooms   7608 non-null   int32  \n",
      " 14  Bathroom_type     7607 non-null   object \n",
      "dtypes: float64(4), int32(6), object(5)\n",
      "memory usage: 713.4+ KB\n"
     ]
    }
   ],
   "source": [
    "# Code to check the datatype and not null count.\n",
    "df.info()"
   ]
  },
  {
   "cell_type": "markdown",
   "id": "7684276b",
   "metadata": {},
   "source": [
    "### 1.3. **Checking duplicate rows in the dataset.**"
   ]
  },
  {
   "cell_type": "code",
   "execution_count": 156,
   "id": "8bf67d2d-3555-488f-a1c9-e735f325c90f",
   "metadata": {},
   "outputs": [
    {
     "data": {
      "text/plain": [
       "'\\nIf duplicates properties found droping is the prefered option.\\n'"
      ]
     },
     "execution_count": 156,
     "metadata": {},
     "output_type": "execute_result"
    }
   ],
   "source": [
    "'''\n",
    "Data frame contains information about the property details and pricing. Host Id refers to the property owner and owner can have more than one property. \n",
    "So identyfy the duplicates can be done using Latitude and Longiture. Assuming same latitude and Longitude value refers to duplicate property.\n",
    "1. Perform duplicate check by grouping by latitude and longitude.\n",
    "2. Filter the groups where the count (Freq) is greater than 1\n",
    "'''\n",
    "result = df.groupby(['latitude', 'longitude']).size().reset_index(name='Freq')\n",
    "result_duplicates = result[result['Freq'] > 1]\n",
    "\n",
    "'''\n",
    "If duplicates properties found droping is the prefered option.\n",
    "'''"
   ]
  },
  {
   "cell_type": "code",
   "execution_count": 157,
   "id": "c1988573-15f6-47b3-acf9-2e57ac5decaf",
   "metadata": {
    "tags": []
   },
   "outputs": [
    {
     "data": {
      "text/plain": [
       "(131,\n",
       " 0       False\n",
       " 1       False\n",
       " 2       False\n",
       " 3       False\n",
       " 4       False\n",
       "         ...  \n",
       " 7603    False\n",
       " 7604    False\n",
       " 7605    False\n",
       " 7606    False\n",
       " 7607    False\n",
       " Length: 7608, dtype: bool)"
      ]
     },
     "execution_count": 157,
     "metadata": {},
     "output_type": "execute_result"
    }
   ],
   "source": [
    "# 1.3.1 Code to check for duplicate values\n",
    "'''\n",
    "1. Duplicate check on the basis of \"latitude\" & \"longitude\" since same property may listed twice\n",
    "'''\n",
    "def checkDuplicate(df):\n",
    "    DuplicateSeries = df[['latitude', 'longitude']].duplicated()\n",
    "    duplicateCount = 0\n",
    "    for value in DuplicateSeries:    \n",
    "        if str(value)=='True':\n",
    "            duplicateCount +=1\n",
    "\n",
    "    return duplicateCount, DuplicateSeries\n",
    "duplicateCount, boolenSeries = checkDuplicate(df)\n",
    "duplicateCount, boolenSeries"
   ]
  },
  {
   "cell_type": "raw",
   "id": "f345e347",
   "metadata": {},
   "source": [
    "1.3.2 How would you handle duplicate rows?\n",
    " - By keeping either the first or last occurance of the record."
   ]
  },
  {
   "cell_type": "code",
   "execution_count": 158,
   "id": "5f14d4c7-78c0-409f-a4c6-da4f7681cb5b",
   "metadata": {},
   "outputs": [],
   "source": [
    "# Code to drop duplicate values.\n",
    "'''\n",
    "Second occuring values is droped.\n",
    "'''\n",
    "df_02 = df.drop_duplicates(subset=['latitude', 'longitude'], keep='first')"
   ]
  },
  {
   "cell_type": "markdown",
   "id": "82b7d3f0",
   "metadata": {},
   "source": [
    "### 1.4. **Check for missing values, How to handle the missing values in the dataset?**"
   ]
  },
  {
   "cell_type": "code",
   "execution_count": 160,
   "id": "40a3d1d9-1d7d-48ed-a30f-70875176eed1",
   "metadata": {
    "tags": []
   },
   "outputs": [
    {
     "data": {
      "text/plain": [
       "host_id                0\n",
       "neighbourhood          0\n",
       "latitude               4\n",
       "longitude              6\n",
       "room_type              0\n",
       "price in $            10\n",
       "minimum_nights         0\n",
       "availability_365       0\n",
       "Apartment_type         1\n",
       "City                   1\n",
       "Rating              1546\n",
       "No_of_bed_rooms        0\n",
       "No_of_beds             0\n",
       "No_of_bathrooms        0\n",
       "Bathroom_type          1\n",
       "dtype: int64"
      ]
     },
     "execution_count": 160,
     "metadata": {},
     "output_type": "execute_result"
    }
   ],
   "source": [
    "# 1.4.1 check for missing values\n",
    "'''\n",
    "1. Using isnull and sum function \n",
    "'''\n",
    "df_02.isnull().sum()"
   ]
  },
  {
   "cell_type": "raw",
   "id": "b5e13ce7",
   "metadata": {},
   "source": [
    "1.4.2 List some ways to handle columns with missing values.\n",
    "First, I would look for the no of missing values in columns.\n",
    "Second, I would identify how important the feasture(or column) is?\n",
    "Third, If the column having missing is not important for the calulation  and contains really high missing values I will drop the entire column.\n",
    "Other wise, fill the missing values with appropriate values (mean, mode etc).\n"
   ]
  },
  {
   "cell_type": "code",
   "execution_count": 161,
   "id": "1daaf9d4-38d3-4876-b32c-41729b16c03b",
   "metadata": {
    "tags": []
   },
   "outputs": [
    {
     "name": "stderr",
     "output_type": "stream",
     "text": [
      "C:\\Users\\aarun\\AppData\\Local\\Temp\\ipykernel_14048\\1946269302.py:3: SettingWithCopyWarning: \n",
      "A value is trying to be set on a copy of a slice from a DataFrame.\n",
      "Try using .loc[row_indexer,col_indexer] = value instead\n",
      "\n",
      "See the caveats in the documentation: https://pandas.pydata.org/pandas-docs/stable/user_guide/indexing.html#returning-a-view-versus-a-copy\n",
      "  df_02['price in $'] = df_02['price in $'].fillna(meanFill.round(1))\n"
     ]
    }
   ],
   "source": [
    "# 1.4.3 Populate missing values in the 'price in $' column with the mean.\n",
    "meanFill = df['price in $'].mean()\n",
    "df_02['price in $'] = df_02['price in $'].fillna(meanFill.round(1))"
   ]
  },
  {
   "cell_type": "code",
   "execution_count": 162,
   "id": "be21ec60-ba4e-4404-816d-de71c4b9ddd8",
   "metadata": {
    "tags": []
   },
   "outputs": [
    {
     "data": {
      "text/plain": [
       "0"
      ]
     },
     "execution_count": 162,
     "metadata": {},
     "output_type": "execute_result"
    }
   ],
   "source": [
    "# 1.4.4 Verify that there are no more missing values in the 'price in $' column\n",
    "df_02['price in $'].isna().sum()"
   ]
  },
  {
   "cell_type": "code",
   "execution_count": 163,
   "id": "f1eca599",
   "metadata": {},
   "outputs": [
    {
     "name": "stderr",
     "output_type": "stream",
     "text": [
      "C:\\Users\\aarun\\AppData\\Local\\Temp\\ipykernel_14048\\1354899625.py:2: SettingWithCopyWarning: \n",
      "A value is trying to be set on a copy of a slice from a DataFrame.\n",
      "Try using .loc[row_indexer,col_indexer] = value instead\n",
      "\n",
      "See the caveats in the documentation: https://pandas.pydata.org/pandas-docs/stable/user_guide/indexing.html#returning-a-view-versus-a-copy\n",
      "  df_02['City'] = df_02['City'].fillna('Amsterdam')\n"
     ]
    }
   ],
   "source": [
    "# 1.4.5 Populate all missing values in the City column with \"Amsterdam\"\n",
    "df_02['City'] = df_02['City'].fillna('Amsterdam')"
   ]
  },
  {
   "cell_type": "code",
   "execution_count": 164,
   "id": "f31b257c",
   "metadata": {},
   "outputs": [
    {
     "data": {
      "text/plain": [
       "0"
      ]
     },
     "execution_count": 164,
     "metadata": {},
     "output_type": "execute_result"
    }
   ],
   "source": [
    "# 1.4.6 Verify that there are no more missing values in the 'City' column\n",
    "df_02['City'].isna().sum()"
   ]
  },
  {
   "cell_type": "code",
   "execution_count": 165,
   "id": "ab8e99e2-77ae-49b3-aa38-e0730af0fae5",
   "metadata": {
    "tags": []
   },
   "outputs": [],
   "source": [
    "# 1.4.7 Drop all remaining rows with missing data. Store the result in a new dataframe called df2.\n",
    "df2 = df_02.dropna()"
   ]
  },
  {
   "cell_type": "code",
   "execution_count": 166,
   "id": "ad1cde9c-2915-4a53-bf60-7ac21187e3a0",
   "metadata": {},
   "outputs": [
    {
     "name": "stderr",
     "output_type": "stream",
     "text": [
      "C:\\Users\\aarun\\AppData\\Local\\Temp\\ipykernel_14048\\2578875965.py:6: SettingWithCopyWarning: \n",
      "A value is trying to be set on a copy of a slice from a DataFrame\n",
      "\n",
      "See the caveats in the documentation: https://pandas.pydata.org/pandas-docs/stable/user_guide/indexing.html#returning-a-view-versus-a-copy\n",
      "  df2.drop(df2[df2['host_id'] == 0].index, inplace=True)\n"
     ]
    }
   ],
   "source": [
    "# Code to drop rows having value 0.\n",
    "'''\n",
    "Droping the rows where host_id is 0, During Data type change it was filled with 0 value using fillna(0) to fill the missing values\n",
    "1. Drop rows where 'host_id' is 0\n",
    "'''\n",
    "df2.drop(df2[df2['host_id'] == 0].index, inplace=True)"
   ]
  },
  {
   "cell_type": "code",
   "execution_count": 167,
   "id": "07326fa3-872b-43d5-9e07-d9b291ab4446",
   "metadata": {
    "tags": []
   },
   "outputs": [
    {
     "data": {
      "text/plain": [
       "(5915, 15)"
      ]
     },
     "execution_count": 167,
     "metadata": {},
     "output_type": "execute_result"
    }
   ],
   "source": [
    "df2.shape"
   ]
  },
  {
   "cell_type": "code",
   "execution_count": 168,
   "id": "2ba64f1f-6c4a-41a5-b72e-310e3e7c8c07",
   "metadata": {},
   "outputs": [
    {
     "data": {
      "text/plain": [
       "0.0"
      ]
     },
     "execution_count": 168,
     "metadata": {},
     "output_type": "execute_result"
    }
   ],
   "source": [
    "df2['price in $'].min()"
   ]
  },
  {
   "cell_type": "markdown",
   "id": "58d55fe0",
   "metadata": {
    "tags": []
   },
   "source": [
    "### 1.5. Compare the shapes of the original (df) and new (df2) dataframes, and verify there are no missing values in df2."
   ]
  },
  {
   "cell_type": "code",
   "execution_count": 170,
   "id": "b6479b85-b098-417a-ab7a-86e49b323b57",
   "metadata": {
    "tags": []
   },
   "outputs": [
    {
     "name": "stdout",
     "output_type": "stream",
     "text": [
      " Shape before: (7608, 15) \n",
      " Shape After : (5915, 15)\n"
     ]
    }
   ],
   "source": [
    "# 1.5.1 code to show shapes of old and new dataframes\n",
    "'''\n",
    "1. Function is created to get shapes of original and new data frame.\n",
    "'''\n",
    "def showShape(df_before, df_after):\n",
    "    shape_before = df_before.shape\n",
    "    shape_after = df_after.shape\n",
    "\n",
    "    return shape_before, shape_after\n",
    "shape_before, shape_after = showShape(df, df2)\n",
    "print(f\" Shape before: {shape_before} \\n Shape After : {shape_after}\")"
   ]
  },
  {
   "cell_type": "code",
   "execution_count": 171,
   "id": "9af2c0f5-a3b1-46b0-a132-f97b9d4651fb",
   "metadata": {
    "tags": []
   },
   "outputs": [
    {
     "data": {
      "text/plain": [
       "host_id             0\n",
       "neighbourhood       0\n",
       "latitude            0\n",
       "longitude           0\n",
       "room_type           0\n",
       "price in $          0\n",
       "minimum_nights      0\n",
       "availability_365    0\n",
       "Apartment_type      0\n",
       "City                0\n",
       "Rating              0\n",
       "No_of_bed_rooms     0\n",
       "No_of_beds          0\n",
       "No_of_bathrooms     0\n",
       "Bathroom_type       0\n",
       "dtype: int64"
      ]
     },
     "execution_count": 171,
     "metadata": {},
     "output_type": "execute_result"
    }
   ],
   "source": [
    "# 1.5.2 Code to verify no missing values\n",
    "df2.isnull().sum()"
   ]
  },
  {
   "cell_type": "markdown",
   "id": "ce912f4d",
   "metadata": {},
   "source": [
    "### 1.6. **Drop the 'latitude' and 'longitude' columns.**"
   ]
  },
  {
   "cell_type": "markdown",
   "id": "a0cb971d",
   "metadata": {},
   "source": [
    "Note: Working with df2 DataFrame onward."
   ]
  },
  {
   "cell_type": "code",
   "execution_count": 174,
   "id": "91c69265-3568-4a97-9e90-15677c70b23e",
   "metadata": {
    "tags": []
   },
   "outputs": [
    {
     "name": "stderr",
     "output_type": "stream",
     "text": [
      "C:\\Users\\aarun\\AppData\\Local\\Temp\\ipykernel_14048\\2564307588.py:2: SettingWithCopyWarning: \n",
      "A value is trying to be set on a copy of a slice from a DataFrame\n",
      "\n",
      "See the caveats in the documentation: https://pandas.pydata.org/pandas-docs/stable/user_guide/indexing.html#returning-a-view-versus-a-copy\n",
      "  df2.drop(columns=['latitude', 'longitude'], inplace=True)\n"
     ]
    }
   ],
   "source": [
    "# 1.6.1 Code to drop columns.\n",
    "df2.drop(columns=['latitude', 'longitude'], inplace=True)"
   ]
  },
  {
   "cell_type": "code",
   "execution_count": 175,
   "id": "09ea894c",
   "metadata": {},
   "outputs": [
    {
     "data": {
      "text/plain": [
       "(5915, 13)"
      ]
     },
     "execution_count": 175,
     "metadata": {},
     "output_type": "execute_result"
    }
   ],
   "source": [
    "# 1.6.2 Code to new shape\n",
    "df2.shape"
   ]
  },
  {
   "cell_type": "markdown",
   "id": "f4b2b687",
   "metadata": {},
   "source": [
    "### 1.7. **List the  unique values in Apartment_type and Bathroom_type**"
   ]
  },
  {
   "cell_type": "code",
   "execution_count": 177,
   "id": "af8da01e-d2c6-4b25-a047-4610f6e32fcf",
   "metadata": {
    "tags": []
   },
   "outputs": [
    {
     "data": {
      "text/plain": [
       "Apartment_type\n",
       "Rental unit           2644\n",
       "Condo                 1171\n",
       "Home                   499\n",
       "Bed and breakfast      284\n",
       "Townhouse              267\n",
       "Houseboat              215\n",
       "Loft                   195\n",
       "Boat                   132\n",
       "Guest suite            106\n",
       "Serviced apartment      82\n",
       "Hotel                   79\n",
       "Boutique hotel          58\n",
       "Hostel                  38\n",
       "Guesthouse              32\n",
       "Villa                   21\n",
       "Place to stay           18\n",
       "Aparthotel              15\n",
       "casa particular         13\n",
       "Vacation home           12\n",
       "Tiny home                9\n",
       "Cabin                    6\n",
       "Earthen home             4\n",
       "Farm stay                3\n",
       "Cottage                  2\n",
       "Nature lodge             2\n",
       "Camper/RV                2\n",
       "Chalet                   2\n",
       "Tower                    1\n",
       "Barn                     1\n",
       "Bungalow                 1\n",
       "Tent                     1\n",
       "Name: count, dtype: int64"
      ]
     },
     "execution_count": 177,
     "metadata": {},
     "output_type": "execute_result"
    }
   ],
   "source": [
    "# 1.7.1 Find and list the unique apartment tpyes.\n",
    "df2['Apartment_type'].value_counts()"
   ]
  },
  {
   "cell_type": "code",
   "execution_count": 178,
   "id": "1372613e-f794-4aee-a2da-9dad0b79396d",
   "metadata": {
    "tags": []
   },
   "outputs": [
    {
     "data": {
      "text/plain": [
       "Bathroom_type\n",
       "private    5438\n",
       "shared      477\n",
       "Name: count, dtype: int64"
      ]
     },
     "execution_count": 178,
     "metadata": {},
     "output_type": "execute_result"
    }
   ],
   "source": [
    "# 1.7.2 Find and list the unique bathroom types.\n",
    "df2['Bathroom_type'].value_counts()  "
   ]
  },
  {
   "cell_type": "markdown",
   "id": "40d69a7d",
   "metadata": {},
   "source": [
    "### 1.8. **Replace the bathroom types (shared and private) with integers (0 and 1).**"
   ]
  },
  {
   "cell_type": "code",
   "execution_count": 180,
   "id": "1a99c43d-8dc7-4186-accf-cd2c3fa62e0f",
   "metadata": {
    "tags": []
   },
   "outputs": [
    {
     "name": "stderr",
     "output_type": "stream",
     "text": [
      "C:\\Users\\aarun\\AppData\\Local\\Temp\\ipykernel_14048\\2288126307.py:2: SettingWithCopyWarning: \n",
      "A value is trying to be set on a copy of a slice from a DataFrame.\n",
      "Try using .loc[row_indexer,col_indexer] = value instead\n",
      "\n",
      "See the caveats in the documentation: https://pandas.pydata.org/pandas-docs/stable/user_guide/indexing.html#returning-a-view-versus-a-copy\n",
      "  df2['Bathroom_type'] = df2['Bathroom_type'].map({'private': 1, 'shared': 0})\n"
     ]
    }
   ],
   "source": [
    "# 1.8.1 Replacing the strings with integers\n",
    "df2['Bathroom_type'] = df2['Bathroom_type'].map({'private': 1, 'shared': 0})"
   ]
  },
  {
   "cell_type": "code",
   "execution_count": 181,
   "id": "64d6f42b-190e-4c81-82a9-2334322a1a8d",
   "metadata": {
    "scrolled": true,
    "tags": []
   },
   "outputs": [
    {
     "data": {
      "text/plain": [
       "0    0\n",
       "1    1\n",
       "2    1\n",
       "3    1\n",
       "4    1\n",
       "Name: Bathroom_type, dtype: int64"
      ]
     },
     "execution_count": 181,
     "metadata": {},
     "output_type": "execute_result"
    }
   ],
   "source": [
    "# 1.8.2 Verifying the changes\n",
    "df2['Bathroom_type'].head(5)"
   ]
  },
  {
   "cell_type": "markdown",
   "id": "f70eef0d-0c39-4a80-bbb9-801fb35b4538",
   "metadata": {},
   "source": [
    "# Part - 2 (Exploratory Data Analysis)"
   ]
  },
  {
   "cell_type": "markdown",
   "id": "a5711bab",
   "metadata": {},
   "source": [
    "Exploratory Data Analysis refers to the critical process of performing initial investigations on data so as to discover patterns, to spot anomalies,to test hypothesis and to check assumptions with the help of summary statistics and graphical representations. "
   ]
  },
  {
   "cell_type": "markdown",
   "id": "01220f3e",
   "metadata": {},
   "source": [
    "### 2.1. **Describe the data.**"
   ]
  },
  {
   "cell_type": "code",
   "execution_count": 272,
   "id": "7f8d7c7a-4296-4a57-a75d-1e2cfa99fc45",
   "metadata": {
    "tags": []
   },
   "outputs": [
    {
     "data": {
      "text/html": [
       "<div>\n",
       "<style scoped>\n",
       "    .dataframe tbody tr th:only-of-type {\n",
       "        vertical-align: middle;\n",
       "    }\n",
       "\n",
       "    .dataframe tbody tr th {\n",
       "        vertical-align: top;\n",
       "    }\n",
       "\n",
       "    .dataframe thead th {\n",
       "        text-align: right;\n",
       "    }\n",
       "</style>\n",
       "<table border=\"1\" class=\"dataframe\">\n",
       "  <thead>\n",
       "    <tr style=\"text-align: right;\">\n",
       "      <th></th>\n",
       "      <th>host_id</th>\n",
       "      <th>price in $</th>\n",
       "      <th>minimum_nights</th>\n",
       "      <th>availability_365</th>\n",
       "      <th>Rating</th>\n",
       "      <th>No_of_bed_rooms</th>\n",
       "      <th>No_of_beds</th>\n",
       "      <th>No_of_bathrooms</th>\n",
       "      <th>Bathroom_type</th>\n",
       "    </tr>\n",
       "  </thead>\n",
       "  <tbody>\n",
       "    <tr>\n",
       "      <th>count</th>\n",
       "      <td>5.915000e+03</td>\n",
       "      <td>5915.000000</td>\n",
       "      <td>5915.000000</td>\n",
       "      <td>5915.000000</td>\n",
       "      <td>5915.000000</td>\n",
       "      <td>5915.000000</td>\n",
       "      <td>5915.000000</td>\n",
       "      <td>5915.000000</td>\n",
       "      <td>5915.000000</td>\n",
       "    </tr>\n",
       "    <tr>\n",
       "      <th>mean</th>\n",
       "      <td>9.443714e+07</td>\n",
       "      <td>239.408774</td>\n",
       "      <td>4.968216</td>\n",
       "      <td>74.213356</td>\n",
       "      <td>4.822877</td>\n",
       "      <td>1.500423</td>\n",
       "      <td>1.555030</td>\n",
       "      <td>0.987151</td>\n",
       "      <td>0.919358</td>\n",
       "    </tr>\n",
       "    <tr>\n",
       "      <th>std</th>\n",
       "      <td>1.307134e+08</td>\n",
       "      <td>227.227351</td>\n",
       "      <td>37.373437</td>\n",
       "      <td>102.277956</td>\n",
       "      <td>0.213784</td>\n",
       "      <td>0.902665</td>\n",
       "      <td>0.864397</td>\n",
       "      <td>0.528047</td>\n",
       "      <td>0.272308</td>\n",
       "    </tr>\n",
       "    <tr>\n",
       "      <th>min</th>\n",
       "      <td>3.159000e+03</td>\n",
       "      <td>0.000000</td>\n",
       "      <td>0.000000</td>\n",
       "      <td>0.000000</td>\n",
       "      <td>1.670000</td>\n",
       "      <td>0.000000</td>\n",
       "      <td>0.000000</td>\n",
       "      <td>0.000000</td>\n",
       "      <td>0.000000</td>\n",
       "    </tr>\n",
       "    <tr>\n",
       "      <th>25%</th>\n",
       "      <td>9.224239e+06</td>\n",
       "      <td>140.000000</td>\n",
       "      <td>2.000000</td>\n",
       "      <td>0.000000</td>\n",
       "      <td>4.750000</td>\n",
       "      <td>1.000000</td>\n",
       "      <td>1.000000</td>\n",
       "      <td>1.000000</td>\n",
       "      <td>1.000000</td>\n",
       "    </tr>\n",
       "    <tr>\n",
       "      <th>50%</th>\n",
       "      <td>3.219544e+07</td>\n",
       "      <td>200.000000</td>\n",
       "      <td>3.000000</td>\n",
       "      <td>17.000000</td>\n",
       "      <td>4.880000</td>\n",
       "      <td>1.000000</td>\n",
       "      <td>1.000000</td>\n",
       "      <td>1.000000</td>\n",
       "      <td>1.000000</td>\n",
       "    </tr>\n",
       "    <tr>\n",
       "      <th>75%</th>\n",
       "      <td>1.242761e+08</td>\n",
       "      <td>294.000000</td>\n",
       "      <td>4.000000</td>\n",
       "      <td>133.500000</td>\n",
       "      <td>5.000000</td>\n",
       "      <td>2.000000</td>\n",
       "      <td>2.000000</td>\n",
       "      <td>1.000000</td>\n",
       "      <td>1.000000</td>\n",
       "    </tr>\n",
       "    <tr>\n",
       "      <th>max</th>\n",
       "      <td>5.126757e+08</td>\n",
       "      <td>10000.000000</td>\n",
       "      <td>1001.000000</td>\n",
       "      <td>365.000000</td>\n",
       "      <td>5.000000</td>\n",
       "      <td>10.000000</td>\n",
       "      <td>10.000000</td>\n",
       "      <td>5.000000</td>\n",
       "      <td>1.000000</td>\n",
       "    </tr>\n",
       "  </tbody>\n",
       "</table>\n",
       "</div>"
      ],
      "text/plain": [
       "            host_id    price in $  minimum_nights  availability_365  \\\n",
       "count  5.915000e+03   5915.000000     5915.000000       5915.000000   \n",
       "mean   9.443714e+07    239.408774        4.968216         74.213356   \n",
       "std    1.307134e+08    227.227351       37.373437        102.277956   \n",
       "min    3.159000e+03      0.000000        0.000000          0.000000   \n",
       "25%    9.224239e+06    140.000000        2.000000          0.000000   \n",
       "50%    3.219544e+07    200.000000        3.000000         17.000000   \n",
       "75%    1.242761e+08    294.000000        4.000000        133.500000   \n",
       "max    5.126757e+08  10000.000000     1001.000000        365.000000   \n",
       "\n",
       "            Rating  No_of_bed_rooms   No_of_beds  No_of_bathrooms  \\\n",
       "count  5915.000000      5915.000000  5915.000000      5915.000000   \n",
       "mean      4.822877         1.500423     1.555030         0.987151   \n",
       "std       0.213784         0.902665     0.864397         0.528047   \n",
       "min       1.670000         0.000000     0.000000         0.000000   \n",
       "25%       4.750000         1.000000     1.000000         1.000000   \n",
       "50%       4.880000         1.000000     1.000000         1.000000   \n",
       "75%       5.000000         2.000000     2.000000         1.000000   \n",
       "max       5.000000        10.000000    10.000000         5.000000   \n",
       "\n",
       "       Bathroom_type  \n",
       "count    5915.000000  \n",
       "mean        0.919358  \n",
       "std         0.272308  \n",
       "min         0.000000  \n",
       "25%         1.000000  \n",
       "50%         1.000000  \n",
       "75%         1.000000  \n",
       "max         1.000000  "
      ]
     },
     "execution_count": 272,
     "metadata": {},
     "output_type": "execute_result"
    }
   ],
   "source": [
    "# Code to describe data here.\n",
    "df2.describe()"
   ]
  },
  {
   "cell_type": "markdown",
   "id": "59440e43",
   "metadata": {},
   "source": [
    "### 2.2. **Identify significant correlations.**"
   ]
  },
  {
   "cell_type": "code",
   "execution_count": 274,
   "id": "ae404370-d29f-461a-8d0b-2da26bc852e1",
   "metadata": {
    "scrolled": true,
    "tags": []
   },
   "outputs": [
    {
     "data": {
      "text/html": [
       "<div>\n",
       "<style scoped>\n",
       "    .dataframe tbody tr th:only-of-type {\n",
       "        vertical-align: middle;\n",
       "    }\n",
       "\n",
       "    .dataframe tbody tr th {\n",
       "        vertical-align: top;\n",
       "    }\n",
       "\n",
       "    .dataframe thead th {\n",
       "        text-align: right;\n",
       "    }\n",
       "</style>\n",
       "<table border=\"1\" class=\"dataframe\">\n",
       "  <thead>\n",
       "    <tr style=\"text-align: right;\">\n",
       "      <th></th>\n",
       "      <th>host_id</th>\n",
       "      <th>price in $</th>\n",
       "      <th>minimum_nights</th>\n",
       "      <th>availability_365</th>\n",
       "      <th>Rating</th>\n",
       "      <th>No_of_bed_rooms</th>\n",
       "      <th>No_of_beds</th>\n",
       "      <th>No_of_bathrooms</th>\n",
       "      <th>Bathroom_type</th>\n",
       "    </tr>\n",
       "  </thead>\n",
       "  <tbody>\n",
       "    <tr>\n",
       "      <th>host_id</th>\n",
       "      <td>1.000000</td>\n",
       "      <td>0.037012</td>\n",
       "      <td>-0.013227</td>\n",
       "      <td>0.183271</td>\n",
       "      <td>-0.179074</td>\n",
       "      <td>-0.086633</td>\n",
       "      <td>-0.078877</td>\n",
       "      <td>-0.090494</td>\n",
       "      <td>-0.032155</td>\n",
       "    </tr>\n",
       "    <tr>\n",
       "      <th>price in $</th>\n",
       "      <td>0.037012</td>\n",
       "      <td>1.000000</td>\n",
       "      <td>-0.000372</td>\n",
       "      <td>0.152178</td>\n",
       "      <td>0.044686</td>\n",
       "      <td>0.300176</td>\n",
       "      <td>0.297025</td>\n",
       "      <td>0.267463</td>\n",
       "      <td>0.152235</td>\n",
       "    </tr>\n",
       "    <tr>\n",
       "      <th>minimum_nights</th>\n",
       "      <td>-0.013227</td>\n",
       "      <td>-0.000372</td>\n",
       "      <td>1.000000</td>\n",
       "      <td>0.006240</td>\n",
       "      <td>0.012978</td>\n",
       "      <td>0.013238</td>\n",
       "      <td>0.011281</td>\n",
       "      <td>0.010818</td>\n",
       "      <td>-0.001232</td>\n",
       "    </tr>\n",
       "    <tr>\n",
       "      <th>availability_365</th>\n",
       "      <td>0.183271</td>\n",
       "      <td>0.152178</td>\n",
       "      <td>0.006240</td>\n",
       "      <td>1.000000</td>\n",
       "      <td>-0.186972</td>\n",
       "      <td>-0.097223</td>\n",
       "      <td>-0.078865</td>\n",
       "      <td>-0.116950</td>\n",
       "      <td>-0.127090</td>\n",
       "    </tr>\n",
       "    <tr>\n",
       "      <th>Rating</th>\n",
       "      <td>-0.179074</td>\n",
       "      <td>0.044686</td>\n",
       "      <td>0.012978</td>\n",
       "      <td>-0.186972</td>\n",
       "      <td>1.000000</td>\n",
       "      <td>0.059297</td>\n",
       "      <td>0.045937</td>\n",
       "      <td>0.076853</td>\n",
       "      <td>0.148518</td>\n",
       "    </tr>\n",
       "    <tr>\n",
       "      <th>No_of_bed_rooms</th>\n",
       "      <td>-0.086633</td>\n",
       "      <td>0.300176</td>\n",
       "      <td>0.013238</td>\n",
       "      <td>-0.097223</td>\n",
       "      <td>0.059297</td>\n",
       "      <td>1.000000</td>\n",
       "      <td>0.939245</td>\n",
       "      <td>0.470052</td>\n",
       "      <td>0.138752</td>\n",
       "    </tr>\n",
       "    <tr>\n",
       "      <th>No_of_beds</th>\n",
       "      <td>-0.078877</td>\n",
       "      <td>0.297025</td>\n",
       "      <td>0.011281</td>\n",
       "      <td>-0.078865</td>\n",
       "      <td>0.045937</td>\n",
       "      <td>0.939245</td>\n",
       "      <td>1.000000</td>\n",
       "      <td>0.454242</td>\n",
       "      <td>0.149958</td>\n",
       "    </tr>\n",
       "    <tr>\n",
       "      <th>No_of_bathrooms</th>\n",
       "      <td>-0.090494</td>\n",
       "      <td>0.267463</td>\n",
       "      <td>0.010818</td>\n",
       "      <td>-0.116950</td>\n",
       "      <td>0.076853</td>\n",
       "      <td>0.470052</td>\n",
       "      <td>0.454242</td>\n",
       "      <td>1.000000</td>\n",
       "      <td>-0.002503</td>\n",
       "    </tr>\n",
       "    <tr>\n",
       "      <th>Bathroom_type</th>\n",
       "      <td>-0.032155</td>\n",
       "      <td>0.152235</td>\n",
       "      <td>-0.001232</td>\n",
       "      <td>-0.127090</td>\n",
       "      <td>0.148518</td>\n",
       "      <td>0.138752</td>\n",
       "      <td>0.149958</td>\n",
       "      <td>-0.002503</td>\n",
       "      <td>1.000000</td>\n",
       "    </tr>\n",
       "  </tbody>\n",
       "</table>\n",
       "</div>"
      ],
      "text/plain": [
       "                   host_id  price in $  minimum_nights  availability_365  \\\n",
       "host_id           1.000000    0.037012       -0.013227          0.183271   \n",
       "price in $        0.037012    1.000000       -0.000372          0.152178   \n",
       "minimum_nights   -0.013227   -0.000372        1.000000          0.006240   \n",
       "availability_365  0.183271    0.152178        0.006240          1.000000   \n",
       "Rating           -0.179074    0.044686        0.012978         -0.186972   \n",
       "No_of_bed_rooms  -0.086633    0.300176        0.013238         -0.097223   \n",
       "No_of_beds       -0.078877    0.297025        0.011281         -0.078865   \n",
       "No_of_bathrooms  -0.090494    0.267463        0.010818         -0.116950   \n",
       "Bathroom_type    -0.032155    0.152235       -0.001232         -0.127090   \n",
       "\n",
       "                    Rating  No_of_bed_rooms  No_of_beds  No_of_bathrooms  \\\n",
       "host_id          -0.179074        -0.086633   -0.078877        -0.090494   \n",
       "price in $        0.044686         0.300176    0.297025         0.267463   \n",
       "minimum_nights    0.012978         0.013238    0.011281         0.010818   \n",
       "availability_365 -0.186972        -0.097223   -0.078865        -0.116950   \n",
       "Rating            1.000000         0.059297    0.045937         0.076853   \n",
       "No_of_bed_rooms   0.059297         1.000000    0.939245         0.470052   \n",
       "No_of_beds        0.045937         0.939245    1.000000         0.454242   \n",
       "No_of_bathrooms   0.076853         0.470052    0.454242         1.000000   \n",
       "Bathroom_type     0.148518         0.138752    0.149958        -0.002503   \n",
       "\n",
       "                  Bathroom_type  \n",
       "host_id               -0.032155  \n",
       "price in $             0.152235  \n",
       "minimum_nights        -0.001232  \n",
       "availability_365      -0.127090  \n",
       "Rating                 0.148518  \n",
       "No_of_bed_rooms        0.138752  \n",
       "No_of_beds             0.149958  \n",
       "No_of_bathrooms       -0.002503  \n",
       "Bathroom_type          1.000000  "
      ]
     },
     "execution_count": 274,
     "metadata": {},
     "output_type": "execute_result"
    }
   ],
   "source": [
    "# 2.2.1 Code to build the correlation matrix\n",
    "correlation_matrix = df2.corr(numeric_only=True)\n",
    "correlation_matrix"
   ]
  },
  {
   "cell_type": "code",
   "execution_count": 304,
   "id": "bab48646-0771-4fe3-9535-862ec0df9552",
   "metadata": {
    "tags": []
   },
   "outputs": [
    {
     "data": {
      "text/plain": [
       "<Axes: >"
      ]
     },
     "execution_count": 304,
     "metadata": {},
     "output_type": "execute_result"
    },
    {
     "data": {
      "image/png": "[encoded data removed]",
      "text/plain": [
       "<Figure size 1000x800 with 2 Axes>"
      ]
     },
     "metadata": {},
     "output_type": "display_data"
    }
   ],
   "source": [
    "# 2.2.2 Display the correlation matrix as a heatmap\n",
    "fig, ax = plt.subplots(figsize=(10,8))\n",
    "sns.heatmap(correlation_matrix, annot=True, annot_kws={'size':10}, ax=ax)"
   ]
  },
  {
   "cell_type": "markdown",
   "id": "7a5d8fa4",
   "metadata": {},
   "source": [
    "### 2.3. **Check if is there any multicollinearity.**"
   ]
  },
  {
   "cell_type": "code",
   "execution_count": 306,
   "id": "02e7a7e3",
   "metadata": {},
   "outputs": [],
   "source": [
    "#Import the statsmodels tools needed to perform VIF.\n",
    "from statsmodels.stats.outliers_influence import variance_inflation_factor\n",
    "import statsmodels.api as sm"
   ]
  },
  {
   "cell_type": "code",
   "execution_count": 308,
   "id": "55e1a55b-cb83-4aa7-88fb-30dccc1cd4a5",
   "metadata": {
    "tags": []
   },
   "outputs": [
    {
     "data": {
      "text/html": [
       "<div>\n",
       "<style scoped>\n",
       "    .dataframe tbody tr th:only-of-type {\n",
       "        vertical-align: middle;\n",
       "    }\n",
       "\n",
       "    .dataframe tbody tr th {\n",
       "        vertical-align: top;\n",
       "    }\n",
       "\n",
       "    .dataframe thead th {\n",
       "        text-align: right;\n",
       "    }\n",
       "</style>\n",
       "<table border=\"1\" class=\"dataframe\">\n",
       "  <thead>\n",
       "    <tr style=\"text-align: right;\">\n",
       "      <th></th>\n",
       "      <th>price in $</th>\n",
       "      <th>minimum_nights</th>\n",
       "      <th>availability_365</th>\n",
       "      <th>Rating</th>\n",
       "      <th>No_of_bed_rooms</th>\n",
       "      <th>No_of_beds</th>\n",
       "      <th>No_of_bathrooms</th>\n",
       "      <th>Bathroom_type</th>\n",
       "    </tr>\n",
       "  </thead>\n",
       "  <tbody>\n",
       "    <tr>\n",
       "      <th>0</th>\n",
       "      <td>69.0</td>\n",
       "      <td>3</td>\n",
       "      <td>7</td>\n",
       "      <td>4.89</td>\n",
       "      <td>1</td>\n",
       "      <td>1</td>\n",
       "      <td>1</td>\n",
       "      <td>0</td>\n",
       "    </tr>\n",
       "    <tr>\n",
       "      <th>1</th>\n",
       "      <td>106.0</td>\n",
       "      <td>1</td>\n",
       "      <td>0</td>\n",
       "      <td>4.44</td>\n",
       "      <td>1</td>\n",
       "      <td>1</td>\n",
       "      <td>0</td>\n",
       "      <td>1</td>\n",
       "    </tr>\n",
       "    <tr>\n",
       "      <th>2</th>\n",
       "      <td>270.0</td>\n",
       "      <td>4</td>\n",
       "      <td>2</td>\n",
       "      <td>4.86</td>\n",
       "      <td>3</td>\n",
       "      <td>3</td>\n",
       "      <td>1</td>\n",
       "      <td>1</td>\n",
       "    </tr>\n",
       "    <tr>\n",
       "      <th>3</th>\n",
       "      <td>200.0</td>\n",
       "      <td>3</td>\n",
       "      <td>0</td>\n",
       "      <td>4.76</td>\n",
       "      <td>1</td>\n",
       "      <td>1</td>\n",
       "      <td>1</td>\n",
       "      <td>1</td>\n",
       "    </tr>\n",
       "    <tr>\n",
       "      <th>4</th>\n",
       "      <td>137.0</td>\n",
       "      <td>3</td>\n",
       "      <td>0</td>\n",
       "      <td>4.94</td>\n",
       "      <td>1</td>\n",
       "      <td>1</td>\n",
       "      <td>1</td>\n",
       "      <td>1</td>\n",
       "    </tr>\n",
       "    <tr>\n",
       "      <th>...</th>\n",
       "      <td>...</td>\n",
       "      <td>...</td>\n",
       "      <td>...</td>\n",
       "      <td>...</td>\n",
       "      <td>...</td>\n",
       "      <td>...</td>\n",
       "      <td>...</td>\n",
       "      <td>...</td>\n",
       "    </tr>\n",
       "    <tr>\n",
       "      <th>7364</th>\n",
       "      <td>406.0</td>\n",
       "      <td>1</td>\n",
       "      <td>286</td>\n",
       "      <td>4.71</td>\n",
       "      <td>1</td>\n",
       "      <td>1</td>\n",
       "      <td>1</td>\n",
       "      <td>1</td>\n",
       "    </tr>\n",
       "    <tr>\n",
       "      <th>7365</th>\n",
       "      <td>339.0</td>\n",
       "      <td>1</td>\n",
       "      <td>235</td>\n",
       "      <td>3.67</td>\n",
       "      <td>1</td>\n",
       "      <td>1</td>\n",
       "      <td>1</td>\n",
       "      <td>1</td>\n",
       "    </tr>\n",
       "    <tr>\n",
       "      <th>7416</th>\n",
       "      <td>99.0</td>\n",
       "      <td>1</td>\n",
       "      <td>95</td>\n",
       "      <td>4.86</td>\n",
       "      <td>1</td>\n",
       "      <td>1</td>\n",
       "      <td>1</td>\n",
       "      <td>1</td>\n",
       "    </tr>\n",
       "    <tr>\n",
       "      <th>7425</th>\n",
       "      <td>106.0</td>\n",
       "      <td>1</td>\n",
       "      <td>19</td>\n",
       "      <td>5.00</td>\n",
       "      <td>1</td>\n",
       "      <td>1</td>\n",
       "      <td>1</td>\n",
       "      <td>0</td>\n",
       "    </tr>\n",
       "    <tr>\n",
       "      <th>7478</th>\n",
       "      <td>316.0</td>\n",
       "      <td>4</td>\n",
       "      <td>12</td>\n",
       "      <td>5.00</td>\n",
       "      <td>2</td>\n",
       "      <td>2</td>\n",
       "      <td>1</td>\n",
       "      <td>1</td>\n",
       "    </tr>\n",
       "  </tbody>\n",
       "</table>\n",
       "<p>5915 rows × 8 columns</p>\n",
       "</div>"
      ],
      "text/plain": [
       "      price in $  minimum_nights  availability_365  Rating  No_of_bed_rooms  \\\n",
       "0           69.0               3                 7    4.89                1   \n",
       "1          106.0               1                 0    4.44                1   \n",
       "2          270.0               4                 2    4.86                3   \n",
       "3          200.0               3                 0    4.76                1   \n",
       "4          137.0               3                 0    4.94                1   \n",
       "...          ...             ...               ...     ...              ...   \n",
       "7364       406.0               1               286    4.71                1   \n",
       "7365       339.0               1               235    3.67                1   \n",
       "7416        99.0               1                95    4.86                1   \n",
       "7425       106.0               1                19    5.00                1   \n",
       "7478       316.0               4                12    5.00                2   \n",
       "\n",
       "      No_of_beds  No_of_bathrooms  Bathroom_type  \n",
       "0              1                1              0  \n",
       "1              1                0              1  \n",
       "2              3                1              1  \n",
       "3              1                1              1  \n",
       "4              1                1              1  \n",
       "...          ...              ...            ...  \n",
       "7364           1                1              1  \n",
       "7365           1                1              1  \n",
       "7416           1                1              1  \n",
       "7425           1                1              0  \n",
       "7478           2                1              1  \n",
       "\n",
       "[5915 rows x 8 columns]"
      ]
     },
     "execution_count": 308,
     "metadata": {},
     "output_type": "execute_result"
    }
   ],
   "source": [
    "# 2.3.1 Selecting all numerical columns *except* host_id.\n",
    "df3 = df2.select_dtypes(['float','int']).drop(columns=['host_id'])\n",
    "df3"
   ]
  },
  {
   "cell_type": "code",
   "execution_count": 192,
   "id": "d7a0f77d",
   "metadata": {},
   "outputs": [
    {
     "data": {
      "text/plain": [
       "price in $          0\n",
       "minimum_nights      0\n",
       "availability_365    0\n",
       "Rating              0\n",
       "No_of_bed_rooms     0\n",
       "No_of_beds          0\n",
       "No_of_bathrooms     0\n",
       "Bathroom_type       0\n",
       "dtype: int64"
      ]
     },
     "execution_count": 192,
     "metadata": {},
     "output_type": "execute_result"
    }
   ],
   "source": [
    "# 2.3.2 Make sure there are no missing (NaN) values \n",
    "df3.isna().sum()"
   ]
  },
  {
   "cell_type": "code",
   "execution_count": 310,
   "id": "568b0b76",
   "metadata": {},
   "outputs": [],
   "source": [
    "# 2.3.3 Add a constant column for the VIF calculation\n",
    "df3 = sm.add_constant(df3)"
   ]
  },
  {
   "cell_type": "code",
   "execution_count": 320,
   "id": "c43aa6c5",
   "metadata": {},
   "outputs": [
    {
     "name": "stdout",
     "output_type": "stream",
     "text": [
      "            feature         VIF\n",
      "0             const  539.263860\n",
      "1        price in $    1.207937\n",
      "2    minimum_nights    1.000531\n",
      "3  availability_365    1.120347\n",
      "4            Rating    1.060279\n",
      "5   No_of_bed_rooms    8.724212\n",
      "6        No_of_beds    8.568648\n",
      "7   No_of_bathrooms    1.353776\n",
      "8     Bathroom_type    1.089306\n"
     ]
    }
   ],
   "source": [
    "# # 2.3.4 Calculate the VIF for each of the columns and display the information.(Make E.C.?)\n",
    "\n",
    "def vifCalculation(df3): \n",
    "    vif_df = pd.DataFrame()               # creating new dataframe for storing VIFs\n",
    "    vif_df['feature'] = df3.columns       # assigning feature names to 'feature' column\n",
    "\n",
    "    # Calculating VIF for each feature\n",
    "    vif_df['VIF'] = [variance_inflation_factor(df3.values, i) for i in range(df3.shape[1])]\n",
    "\n",
    "    return vif_df\n",
    "\n",
    "vif_df = vifCalculation(df3)\n",
    "print(vif_df)"
   ]
  },
  {
   "cell_type": "markdown",
   "id": "2a3f9455",
   "metadata": {},
   "source": [
    "### 2.4. **Spot outliers in the dataset.**"
   ]
  },
  {
   "cell_type": "code",
   "execution_count": 323,
   "id": "f5aab45d-e608-4155-916a-a4ea68affcc4",
   "metadata": {
    "tags": []
   },
   "outputs": [
    {
     "data": {
      "text/plain": [
       "<Axes: xlabel='price in $'>"
      ]
     },
     "execution_count": 323,
     "metadata": {},
     "output_type": "execute_result"
    },
    {
     "data": {
      "image/png": "[encoded data removed]",
      "text/plain": [
       "<Figure size 640x480 with 1 Axes>"
      ]
     },
     "metadata": {},
     "output_type": "display_data"
    }
   ],
   "source": [
    "# 2.4.1. Show boxplot for feature 'price in $'\n",
    "# df3['price in $'].plot.box()\n",
    "sns.boxplot(x = df3['price in $'])"
   ]
  },
  {
   "cell_type": "code",
   "execution_count": 325,
   "id": "72df07aa-dfbd-41a9-95ce-671f66daed27",
   "metadata": {
    "tags": []
   },
   "outputs": [
    {
     "data": {
      "text/plain": [
       "10000.0"
      ]
     },
     "execution_count": 325,
     "metadata": {},
     "output_type": "execute_result"
    }
   ],
   "source": [
    "# 2.4.2 Show the maximum price in $\n",
    "df3['price in $'].max()"
   ]
  },
  {
   "cell_type": "code",
   "execution_count": 327,
   "id": "ab4b4c7d-0cc6-4e79-9ea0-f51124e1b509",
   "metadata": {
    "tags": []
   },
   "outputs": [
    {
     "data": {
      "text/plain": [
       "<Axes: xlabel='minimum_nights'>"
      ]
     },
     "execution_count": 327,
     "metadata": {},
     "output_type": "execute_result"
    },
    {
     "data": {
      "image/png": "[encoded data removed]",
      "text/plain": [
       "<Figure size 640x480 with 1 Axes>"
      ]
     },
     "metadata": {},
     "output_type": "display_data"
    }
   ],
   "source": [
    "# 2.4.3 Show a boxplot for minimum_nights\n",
    "sns.boxplot(x = df3['minimum_nights'])"
   ]
  },
  {
   "cell_type": "code",
   "execution_count": 329,
   "id": "5dd14340-b802-46fd-8098-66e43c345753",
   "metadata": {
    "tags": []
   },
   "outputs": [
    {
     "data": {
      "text/plain": [
       "<Axes: xlabel='Rating'>"
      ]
     },
     "execution_count": 329,
     "metadata": {},
     "output_type": "execute_result"
    },
    {
     "data": {
      "image/png": "[encoded data removed]",
      "text/plain": [
       "<Figure size 640x480 with 1 Axes>"
      ]
     },
     "metadata": {},
     "output_type": "display_data"
    }
   ],
   "source": [
    "# 2.4.4 Show a boxplot for Rating\n",
    "# df3['Rating'].plot.box()\n",
    "sns.boxplot(x=df3['Rating'])"
   ]
  },
  {
   "cell_type": "code",
   "execution_count": 331,
   "id": "aaa4e4a7-d9a7-42ab-aa4b-f8d167ce3d85",
   "metadata": {
    "tags": []
   },
   "outputs": [],
   "source": [
    "# 2.4.5 Define a function to drop outliers beyond a specific multiplier of the IQR.\n",
    "'''\n",
    "1. Function is created to drop outlier. \n",
    "2. Another function is created to calculate IQR.\n",
    "3. IQR is extracted from dataframe describe function. Data frame is then sliced to get two rows only and subtraction is performes between rows \n",
    "   to get the IQR for all column.\n",
    "'''\n",
    "\n",
    "def dropOutliers(df, column, multiplier):\n",
    "    \n",
    "    # First get IQR\n",
    "    def getIQR():\n",
    "        # get IQR for each columns using describe function\n",
    "        df_describe = df.describe()[4:7:2]\n",
    "        df_new = pd.DataFrame()\n",
    "        df_new = df_describe.loc['75%'] - df_describe.loc['25%']\n",
    "        iqr = df_new.loc[column]\n",
    "        df_new\n",
    "        return iqr\n",
    "        \n",
    "    column_iqr = getIQR()\n",
    "    iqr_mp = multiplier * column_iqr\n",
    "    # drop rows from data frame where outlier exist based on the provided multiplier of IQR\n",
    "    df.drop(df[(df[column] < df[column].quantile(q=0.25)-iqr_mp) | (df[column] > df[column].quantile(q=0.75)+iqr_mp )].index, axis= 0, inplace=True)\n",
    "\n",
    "    \n",
    "# To drop outlier run the below function\n",
    "# dropOutliers(df3, 'minimum_nights', 1.5)\n"
   ]
  },
  {
   "cell_type": "code",
   "execution_count": 339,
   "id": "3707791b-771a-4c4d-b355-3d2778883d7c",
   "metadata": {
    "tags": []
   },
   "outputs": [
    {
     "data": {
      "text/html": [
       "<div>\n",
       "<style scoped>\n",
       "    .dataframe tbody tr th:only-of-type {\n",
       "        vertical-align: middle;\n",
       "    }\n",
       "\n",
       "    .dataframe tbody tr th {\n",
       "        vertical-align: top;\n",
       "    }\n",
       "\n",
       "    .dataframe thead th {\n",
       "        text-align: right;\n",
       "    }\n",
       "</style>\n",
       "<table border=\"1\" class=\"dataframe\">\n",
       "  <thead>\n",
       "    <tr style=\"text-align: right;\">\n",
       "      <th></th>\n",
       "      <th>price in $</th>\n",
       "      <th>minimum_nights</th>\n",
       "      <th>Rating</th>\n",
       "    </tr>\n",
       "  </thead>\n",
       "  <tbody>\n",
       "    <tr>\n",
       "      <th>14</th>\n",
       "      <td>675.0</td>\n",
       "      <td>NaN</td>\n",
       "      <td>NaN</td>\n",
       "    </tr>\n",
       "    <tr>\n",
       "      <th>15</th>\n",
       "      <td>NaN</td>\n",
       "      <td>14.0</td>\n",
       "      <td>NaN</td>\n",
       "    </tr>\n",
       "    <tr>\n",
       "      <th>24</th>\n",
       "      <td>NaN</td>\n",
       "      <td>9.0</td>\n",
       "      <td>NaN</td>\n",
       "    </tr>\n",
       "    <tr>\n",
       "      <th>26</th>\n",
       "      <td>NaN</td>\n",
       "      <td>21.0</td>\n",
       "      <td>NaN</td>\n",
       "    </tr>\n",
       "    <tr>\n",
       "      <th>38</th>\n",
       "      <td>1036.0</td>\n",
       "      <td>NaN</td>\n",
       "      <td>NaN</td>\n",
       "    </tr>\n",
       "    <tr>\n",
       "      <th>...</th>\n",
       "      <td>...</td>\n",
       "      <td>...</td>\n",
       "      <td>...</td>\n",
       "    </tr>\n",
       "    <tr>\n",
       "      <th>7283</th>\n",
       "      <td>NaN</td>\n",
       "      <td>NaN</td>\n",
       "      <td>4.33</td>\n",
       "    </tr>\n",
       "    <tr>\n",
       "      <th>7302</th>\n",
       "      <td>NaN</td>\n",
       "      <td>NaN</td>\n",
       "      <td>4.33</td>\n",
       "    </tr>\n",
       "    <tr>\n",
       "      <th>7357</th>\n",
       "      <td>539.0</td>\n",
       "      <td>NaN</td>\n",
       "      <td>NaN</td>\n",
       "    </tr>\n",
       "    <tr>\n",
       "      <th>7359</th>\n",
       "      <td>550.0</td>\n",
       "      <td>NaN</td>\n",
       "      <td>NaN</td>\n",
       "    </tr>\n",
       "    <tr>\n",
       "      <th>7365</th>\n",
       "      <td>NaN</td>\n",
       "      <td>NaN</td>\n",
       "      <td>3.67</td>\n",
       "    </tr>\n",
       "  </tbody>\n",
       "</table>\n",
       "<p>636 rows × 3 columns</p>\n",
       "</div>"
      ],
      "text/plain": [
       "      price in $  minimum_nights  Rating\n",
       "14         675.0             NaN     NaN\n",
       "15           NaN            14.0     NaN\n",
       "24           NaN             9.0     NaN\n",
       "26           NaN            21.0     NaN\n",
       "38        1036.0             NaN     NaN\n",
       "...          ...             ...     ...\n",
       "7283         NaN             NaN    4.33\n",
       "7302         NaN             NaN    4.33\n",
       "7357       539.0             NaN     NaN\n",
       "7359       550.0             NaN     NaN\n",
       "7365         NaN             NaN    3.67\n",
       "\n",
       "[636 rows x 3 columns]"
      ]
     },
     "execution_count": 339,
     "metadata": {},
     "output_type": "execute_result"
    }
   ],
   "source": [
    "# 2.4.6 Find outliers for 'price in $', 'minimum_nights', and 'Rating' using the standard multiplier (1.5)\n",
    "'''\n",
    "1. getoutlier function is created to get the outlier for provided columns.\n",
    "2. getIQR function is created to get IQR of provided columns.\n",
    "3. Apply and lambda function is used for efficient operation for list of columns\n",
    "4. Function return series object and eventyually combined as a dataframe.\n",
    "'''\n",
    "#  function parameter as input may be like df[..columns..].apply(function_to_find_outlier(multiplier))\n",
    "\n",
    "def getOutliers(column, multiplier):\n",
    "    # First get IQR\n",
    "    def getIQR():\n",
    "        # Find Quartile 1st, 3rd and IQR\n",
    "        q1 = column.quantile(q=0.25)\n",
    "        q3 = column.quantile(q=0.75)\n",
    "        IQR = q3-q1\n",
    "        return IQR, q1, q3\n",
    "        \n",
    "    column_iqr, q1, q3 = getIQR()\n",
    "    iqr_mp = multiplier * column_iqr\n",
    "    lower_filterValue = q1 - iqr_mp\n",
    "    upper_filterValue = q3 + iqr_mp\n",
    "    \n",
    "    # rows from data frame where outlier exist based on the provided multiplier of IQR\n",
    "    col_outlier = column[(column < lower_filterValue ) | (column > upper_filterValue )]\n",
    "    return col_outlier\n",
    "    \n",
    "        \n",
    "# df_Outlier = getOutliers(df3, 'minimum_nights', 1.5)\n",
    "colList= ['price in $', 'minimum_nights', 'Rating']\n",
    "outlierSeries_for_multiplier =  df3[colList].apply(lambda col : getOutliers(col, 1.5))\n",
    "outlierSeries_for_multiplier"
   ]
  },
  {
   "cell_type": "code",
   "execution_count": 337,
   "id": "12eea4f0-c061-434c-b27e-3d7897a89d22",
   "metadata": {
    "tags": []
   },
   "outputs": [
    {
     "name": "stdout",
     "output_type": "stream",
     "text": [
      " Outlier Count for column price in $ is 236\n",
      " Outlier Count for column minimum_nights is 176\n",
      " Outlier Count for column Rating is 247\n"
     ]
    }
   ],
   "source": [
    "# 2.4.7 Displaying the count of outliers in each selected column\n",
    "for series in outlierSeries_for_multiplier:\n",
    "    print(f\" Outlier Count for column { series } is {outlierSeries_for_multiplier[series].count()}\")"
   ]
  },
  {
   "cell_type": "code",
   "execution_count": 203,
   "id": "8bd6997d-bbb5-4361-a4a2-9f983fe47685",
   "metadata": {
    "tags": []
   },
   "outputs": [
    {
     "data": {
      "text/html": [
       "<div>\n",
       "<style scoped>\n",
       "    .dataframe tbody tr th:only-of-type {\n",
       "        vertical-align: middle;\n",
       "    }\n",
       "\n",
       "    .dataframe tbody tr th {\n",
       "        vertical-align: top;\n",
       "    }\n",
       "\n",
       "    .dataframe thead th {\n",
       "        text-align: right;\n",
       "    }\n",
       "</style>\n",
       "<table border=\"1\" class=\"dataframe\">\n",
       "  <thead>\n",
       "    <tr style=\"text-align: right;\">\n",
       "      <th></th>\n",
       "      <th>price in $</th>\n",
       "      <th>minimum_nights</th>\n",
       "      <th>Rating</th>\n",
       "    </tr>\n",
       "  </thead>\n",
       "  <tbody>\n",
       "    <tr>\n",
       "      <th>15</th>\n",
       "      <td>NaN</td>\n",
       "      <td>14.0</td>\n",
       "      <td>NaN</td>\n",
       "    </tr>\n",
       "    <tr>\n",
       "      <th>26</th>\n",
       "      <td>NaN</td>\n",
       "      <td>21.0</td>\n",
       "      <td>NaN</td>\n",
       "    </tr>\n",
       "    <tr>\n",
       "      <th>38</th>\n",
       "      <td>1036.0</td>\n",
       "      <td>NaN</td>\n",
       "      <td>NaN</td>\n",
       "    </tr>\n",
       "    <tr>\n",
       "      <th>43</th>\n",
       "      <td>NaN</td>\n",
       "      <td>30.0</td>\n",
       "      <td>NaN</td>\n",
       "    </tr>\n",
       "    <tr>\n",
       "      <th>52</th>\n",
       "      <td>NaN</td>\n",
       "      <td>28.0</td>\n",
       "      <td>NaN</td>\n",
       "    </tr>\n",
       "    <tr>\n",
       "      <th>...</th>\n",
       "      <td>...</td>\n",
       "      <td>...</td>\n",
       "      <td>...</td>\n",
       "    </tr>\n",
       "    <tr>\n",
       "      <th>6914</th>\n",
       "      <td>NaN</td>\n",
       "      <td>NaN</td>\n",
       "      <td>3.33</td>\n",
       "    </tr>\n",
       "    <tr>\n",
       "      <th>7013</th>\n",
       "      <td>2083.0</td>\n",
       "      <td>NaN</td>\n",
       "      <td>NaN</td>\n",
       "    </tr>\n",
       "    <tr>\n",
       "      <th>7100</th>\n",
       "      <td>1000.0</td>\n",
       "      <td>NaN</td>\n",
       "      <td>NaN</td>\n",
       "    </tr>\n",
       "    <tr>\n",
       "      <th>7247</th>\n",
       "      <td>NaN</td>\n",
       "      <td>30.0</td>\n",
       "      <td>NaN</td>\n",
       "    </tr>\n",
       "    <tr>\n",
       "      <th>7365</th>\n",
       "      <td>NaN</td>\n",
       "      <td>NaN</td>\n",
       "      <td>3.67</td>\n",
       "    </tr>\n",
       "  </tbody>\n",
       "</table>\n",
       "<p>238 rows × 3 columns</p>\n",
       "</div>"
      ],
      "text/plain": [
       "      price in $  minimum_nights  Rating\n",
       "15           NaN            14.0     NaN\n",
       "26           NaN            21.0     NaN\n",
       "38        1036.0             NaN     NaN\n",
       "43           NaN            30.0     NaN\n",
       "52           NaN            28.0     NaN\n",
       "...          ...             ...     ...\n",
       "6914         NaN             NaN    3.33\n",
       "7013      2083.0             NaN     NaN\n",
       "7100      1000.0             NaN     NaN\n",
       "7247         NaN            30.0     NaN\n",
       "7365         NaN             NaN    3.67\n",
       "\n",
       "[238 rows x 3 columns]"
      ]
     },
     "execution_count": 203,
     "metadata": {},
     "output_type": "execute_result"
    }
   ],
   "source": [
    "# 2.4.8 Find outliers for the same column using a multiplier of 3.\n",
    "outlierSeries_for_multiplier_of_3 =  df3[colList].apply(lambda col : getOutliers(col, 3))\n",
    "outlierSeries_for_multiplier_of_3"
   ]
  },
  {
   "cell_type": "code",
   "execution_count": 341,
   "id": "f1988f3c",
   "metadata": {},
   "outputs": [
    {
     "name": "stdout",
     "output_type": "stream",
     "text": [
      " Outlier Count for column price in $ is 73\n",
      " Outlier Count for column minimum_nights is 132\n",
      " Outlier Count for column Rating is 35\n"
     ]
    }
   ],
   "source": [
    "# 2.4.9 Display the new count of outliers in each selected column\n",
    "for series in outlierSeries_for_multiplier_of_3:\n",
    "    print(f\" Outlier Count for column { series } is {outlierSeries_for_multiplier_of_3[series].count()}\")"
   ]
  },
  {
   "cell_type": "raw",
   "id": "6bb49add",
   "metadata": {},
   "source": [
    "2.4.10 What to do with the outliers for each of the columns?\n",
    "\n",
    "price in $:  Outlier can be be removed for better visualization difficult to visualize the price data. But recommended not because contains important information.\n",
    " \n",
    "minimum_nights: Outlier should be removed for better visualization. Specifically minimum_nights, contains absured values so it is better to remove.\n",
    "\n",
    "Rating: Rating are important factor to study sentiment of customer so it is better not to drop.\n"
   ]
  },
  {
   "cell_type": "markdown",
   "id": "a8144c46-0c57-411e-a3c7-d15b4fee4f7a",
   "metadata": {},
   "source": [
    "### 2.5. **Compute the Average Price for Each Type of Listing.**"
   ]
  },
  {
   "cell_type": "code",
   "execution_count": 343,
   "id": "a7cced60-c5ad-4567-99aa-251076ccc1ba",
   "metadata": {
    "tags": []
   },
   "outputs": [
    {
     "data": {
      "text/html": [
       "<div>\n",
       "<style scoped>\n",
       "    .dataframe tbody tr th:only-of-type {\n",
       "        vertical-align: middle;\n",
       "    }\n",
       "\n",
       "    .dataframe tbody tr th {\n",
       "        vertical-align: top;\n",
       "    }\n",
       "\n",
       "    .dataframe thead th {\n",
       "        text-align: right;\n",
       "    }\n",
       "</style>\n",
       "<table border=\"1\" class=\"dataframe\">\n",
       "  <thead>\n",
       "    <tr style=\"text-align: right;\">\n",
       "      <th></th>\n",
       "      <th>room_type</th>\n",
       "      <th>AveragePrice</th>\n",
       "    </tr>\n",
       "  </thead>\n",
       "  <tbody>\n",
       "    <tr>\n",
       "      <th>0</th>\n",
       "      <td>Entire home/apt</td>\n",
       "      <td>264.635744</td>\n",
       "    </tr>\n",
       "    <tr>\n",
       "      <th>1</th>\n",
       "      <td>Hotel room</td>\n",
       "      <td>211.170213</td>\n",
       "    </tr>\n",
       "    <tr>\n",
       "      <th>2</th>\n",
       "      <td>Private room</td>\n",
       "      <td>168.562668</td>\n",
       "    </tr>\n",
       "    <tr>\n",
       "      <th>3</th>\n",
       "      <td>Shared room</td>\n",
       "      <td>165.705882</td>\n",
       "    </tr>\n",
       "  </tbody>\n",
       "</table>\n",
       "</div>"
      ],
      "text/plain": [
       "         room_type  AveragePrice\n",
       "0  Entire home/apt    264.635744\n",
       "1       Hotel room    211.170213\n",
       "2     Private room    168.562668\n",
       "3      Shared room    165.705882"
      ]
     },
     "execution_count": 343,
     "metadata": {},
     "output_type": "execute_result"
    }
   ],
   "source": [
    "# 2.5.1 Grouping the data by 'room_type' and calculate the average price for each type\n",
    "# Select the earlier data frame containing column room_type i.e df2\n",
    "result_avgRoomType = df2.groupby(['room_type'])['price in $'].mean().reset_index(name='AveragePrice')\n",
    "result_avgRoomType"
   ]
  },
  {
   "cell_type": "code",
   "execution_count": 345,
   "id": "03510d93-19f3-48ec-9f1f-d84e0148fb79",
   "metadata": {
    "tags": []
   },
   "outputs": [
    {
     "data": {
      "text/plain": [
       "<Axes: xlabel='room_type', ylabel='AveragePrice'>"
      ]
     },
     "execution_count": 345,
     "metadata": {},
     "output_type": "execute_result"
    },
    {
     "data": {
      "image/png": "[encoded data removed]",
      "text/plain": [
       "<Figure size 640x480 with 1 Axes>"
      ]
     },
     "metadata": {},
     "output_type": "display_data"
    }
   ],
   "source": [
    "# 2.5.2 Plot and display the average price for each room type\n",
    "sns.barplot(result_avgRoomType, x=\"room_type\", y=\"AveragePrice\")"
   ]
  },
  {
   "cell_type": "markdown",
   "id": "27dc4a6d",
   "metadata": {},
   "source": [
    "### 2.6. **Listings of Each Unique 'Apartment Type'**"
   ]
  },
  {
   "cell_type": "code",
   "execution_count": 347,
   "id": "52a47b7a-0f56-4d02-98a5-82eb5ec643b6",
   "metadata": {
    "tags": []
   },
   "outputs": [
    {
     "data": {
      "text/html": [
       "<div>\n",
       "<style scoped>\n",
       "    .dataframe tbody tr th:only-of-type {\n",
       "        vertical-align: middle;\n",
       "    }\n",
       "\n",
       "    .dataframe tbody tr th {\n",
       "        vertical-align: top;\n",
       "    }\n",
       "\n",
       "    .dataframe thead th {\n",
       "        text-align: right;\n",
       "    }\n",
       "</style>\n",
       "<table border=\"1\" class=\"dataframe\">\n",
       "  <thead>\n",
       "    <tr style=\"text-align: right;\">\n",
       "      <th></th>\n",
       "      <th>Apartment_type</th>\n",
       "      <th>Frequecy</th>\n",
       "    </tr>\n",
       "  </thead>\n",
       "  <tbody>\n",
       "    <tr>\n",
       "      <th>0</th>\n",
       "      <td>Aparthotel</td>\n",
       "      <td>15</td>\n",
       "    </tr>\n",
       "    <tr>\n",
       "      <th>1</th>\n",
       "      <td>Barn</td>\n",
       "      <td>1</td>\n",
       "    </tr>\n",
       "    <tr>\n",
       "      <th>2</th>\n",
       "      <td>Bed and breakfast</td>\n",
       "      <td>284</td>\n",
       "    </tr>\n",
       "    <tr>\n",
       "      <th>3</th>\n",
       "      <td>Boat</td>\n",
       "      <td>132</td>\n",
       "    </tr>\n",
       "    <tr>\n",
       "      <th>4</th>\n",
       "      <td>Boutique hotel</td>\n",
       "      <td>58</td>\n",
       "    </tr>\n",
       "  </tbody>\n",
       "</table>\n",
       "</div>"
      ],
      "text/plain": [
       "      Apartment_type  Frequecy\n",
       "0         Aparthotel        15\n",
       "1               Barn         1\n",
       "2  Bed and breakfast       284\n",
       "3               Boat       132\n",
       "4     Boutique hotel        58"
      ]
     },
     "execution_count": 347,
     "metadata": {},
     "output_type": "execute_result"
    }
   ],
   "source": [
    "# 2.6.1 Count the frequency of each unique 'Apartment_type'\n",
    "result_aptType = df2.groupby(['Apartment_type']).size().reset_index(name='Frequecy')\n",
    "result_aptType.head(5)"
   ]
  },
  {
   "cell_type": "code",
   "execution_count": 210,
   "id": "aa3171de-3e64-424b-8e3f-d0d58fee3ebe",
   "metadata": {
    "tags": []
   },
   "outputs": [
    {
     "data": {
      "image/png": "[encoded data removed]",
      "text/plain": [
       "<Figure size 640x480 with 1 Axes>"
      ]
     },
     "metadata": {},
     "output_type": "display_data"
    }
   ],
   "source": [
    "# 2.6.2 Plot the frequency distribution of 'Apartment_type'\n",
    "sns.lineplot(data=result_aptType, x=\"Apartment_type\", y=\"Frequecy\")\n",
    "\n",
    "# X-axis label rotating from better readability\n",
    "plt.xticks(rotation=90)\n",
    "\n",
    "plt.show()"
   ]
  },
  {
   "cell_type": "code",
   "execution_count": 351,
   "id": "4b4521c8",
   "metadata": {
    "tags": []
   },
   "outputs": [
    {
     "data": {
      "image/png": "[encoded data removed]",
      "text/plain": [
       "<Figure size 640x480 with 1 Axes>"
      ]
     },
     "metadata": {},
     "output_type": "display_data"
    }
   ],
   "source": [
    "# 2.6.3. Find, Plot, and Display the top 10 most common apartment types\n",
    "result_commAptType = result_aptType.nlargest(10, columns='Frequecy')\n",
    "\n",
    "sns.barplot(data=result_commAptType, x=\"Apartment_type\", y=\"Frequecy\")\n",
    "\n",
    "# X-axis label rotating from better readability\n",
    "plt.xticks(rotation=90)\n",
    "\n",
    "plt.show()"
   ]
  },
  {
   "cell_type": "code",
   "execution_count": 212,
   "id": "4d8d7fd8-c71e-4dd2-9126-26966aed8e98",
   "metadata": {},
   "outputs": [
    {
     "data": {
      "image/png": "[encoded data removed]",
      "text/plain": [
       "<Figure size 640x480 with 1 Axes>"
      ]
     },
     "metadata": {},
     "output_type": "display_data"
    }
   ],
   "source": [
    "# 2.6.4 Find, Plot, and Display the bottom 5 least common apartment types\n",
    "result_leastCommAptType = result_aptType.nsmallest(10, columns='Frequecy')\n",
    "\n",
    "sns.barplot(data=result_leastCommAptType, x=\"Apartment_type\", y=\"Frequecy\")\n",
    "\n",
    "# X-axis label rotating from better readability\n",
    "plt.xticks(rotation=90)\n",
    "\n",
    "plt.show()"
   ]
  },
  {
   "cell_type": "markdown",
   "id": "e5400d3c",
   "metadata": {},
   "source": [
    "### 2.7. **Identify the Top 5 Neighbourhoods with the Highest Average Listing Prices.**"
   ]
  },
  {
   "cell_type": "code",
   "execution_count": 214,
   "id": "0c573356-e266-4550-8cb7-895afacd1efc",
   "metadata": {
    "tags": []
   },
   "outputs": [
    {
     "data": {
      "text/html": [
       "<div>\n",
       "<style scoped>\n",
       "    .dataframe tbody tr th:only-of-type {\n",
       "        vertical-align: middle;\n",
       "    }\n",
       "\n",
       "    .dataframe tbody tr th {\n",
       "        vertical-align: top;\n",
       "    }\n",
       "\n",
       "    .dataframe thead th {\n",
       "        text-align: right;\n",
       "    }\n",
       "</style>\n",
       "<table border=\"1\" class=\"dataframe\">\n",
       "  <thead>\n",
       "    <tr style=\"text-align: right;\">\n",
       "      <th></th>\n",
       "      <th>neighbourhood</th>\n",
       "      <th>AvgPrice</th>\n",
       "    </tr>\n",
       "  </thead>\n",
       "  <tbody>\n",
       "    <tr>\n",
       "      <th>5</th>\n",
       "      <td>Centrum-West</td>\n",
       "      <td>294.313292</td>\n",
       "    </tr>\n",
       "    <tr>\n",
       "      <th>4</th>\n",
       "      <td>Centrum-Oost</td>\n",
       "      <td>282.940240</td>\n",
       "    </tr>\n",
       "    <tr>\n",
       "      <th>21</th>\n",
       "      <td>Zuid</td>\n",
       "      <td>260.352632</td>\n",
       "    </tr>\n",
       "    <tr>\n",
       "      <th>8</th>\n",
       "      <td>De Pijp - Rivierenbuurt</td>\n",
       "      <td>256.616790</td>\n",
       "    </tr>\n",
       "    <tr>\n",
       "      <th>7</th>\n",
       "      <td>De Baarsjes - Oud-West</td>\n",
       "      <td>238.291895</td>\n",
       "    </tr>\n",
       "  </tbody>\n",
       "</table>\n",
       "</div>"
      ],
      "text/plain": [
       "              neighbourhood    AvgPrice\n",
       "5              Centrum-West  294.313292\n",
       "4              Centrum-Oost  282.940240\n",
       "21                     Zuid  260.352632\n",
       "8   De Pijp - Rivierenbuurt  256.616790\n",
       "7    De Baarsjes - Oud-West  238.291895"
      ]
     },
     "execution_count": 214,
     "metadata": {},
     "output_type": "execute_result"
    }
   ],
   "source": [
    "# 2.7.1 Find the top 5 most expensive neighbourhoods based on average price\n",
    "\n",
    "result_avgExpensiveneighbourhood = df2.groupby('neighbourhood')['price in $'].mean().reset_index(name = 'AvgPrice').nlargest(5, columns = 'AvgPrice')\n",
    "\n",
    "result_avgExpensiveneighbourhood"
   ]
  },
  {
   "cell_type": "code",
   "execution_count": 355,
   "id": "606edc4e",
   "metadata": {
    "scrolled": true
   },
   "outputs": [
    {
     "data": {
      "image/png": "[encoded data removed]",
      "text/plain": [
       "<Figure size 640x480 with 1 Axes>"
      ]
     },
     "metadata": {},
     "output_type": "display_data"
    }
   ],
   "source": [
    "# 2.7.2. Plot and display the top 5 most expensive neighbourhoods\n",
    "\n",
    "# sns.barplot(data=result_avgExpensiveneighbourhood, x=\"neighbourhood\", y=\"AvgPrice\")\n",
    "\n",
    "# # X-axis label rotating from better readability\n",
    "# plt.xticks(rotation=90)\n",
    "\n",
    "# plt.show()\n",
    "\n",
    "# define Seaborn color palette to use \n",
    "palette_color = sns.color_palette('bright')\n",
    "  \n",
    "# plotting data on chart\n",
    "plt.pie(result_avgExpensiveneighbourhood['AvgPrice'], labels=result_avgExpensiveneighbourhood['neighbourhood'], colors=palette_color, autopct='%.0f%%')\n",
    "\n",
    "# title of piechart\n",
    "plt.title('5 most expensive neighbourhoods')\n",
    "\n",
    "plt.show()"
   ]
  },
  {
   "cell_type": "code",
   "execution_count": null,
   "id": "b00e1478-3255-4eb1-baba-4d287888c429",
   "metadata": {},
   "outputs": [],
   "source": []
  }
 ],
 "metadata": {
  "kernelspec": {
   "display_name": "Python 3 (ipykernel)",
   "language": "python",
   "name": "python3"
  },
  "language_info": {
   "codemirror_mode": {
    "name": "ipython",
    "version": 3
   },
   "file_extension": ".py",
   "mimetype": "text/x-python",
   "name": "python",
   "nbconvert_exporter": "python",
   "pygments_lexer": "ipython3",
   "version": "3.12.4"
  }
 },
 "nbformat": 4,
 "nbformat_minor": 5
}
