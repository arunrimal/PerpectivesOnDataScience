{
 "cells": [
  {
   "cell_type": "markdown",
   "metadata": {},
   "source": [
    "CS746 Fall 2024 Big HW3 Feature Selection and PCA\n",
    "\n",
    "Using the SAT dataset ('CASE1201.ASC.txt')\n",
    "\n",
    "Create a .ipynb notebook to submit your assignment. The file name should start with “BHW3_yourwsuid”. \n",
    "\n",
    "1.\tDisplay the correlation and covariance tables for the raw features.\n",
    "\n",
    "2.\tBuild a: (a)  simple (intercept + takers) and (b) full linear regression model to predict the SAT scores. (that is, simply copy the first two models from the SAT_example.ipynb presented in class.)\n",
    "\n",
    "3.\tChoose at least one method from each of the three feature selection techniques (filter, wrapper, and embedded). Select and report the “best” features using these three methods.\n",
    "\n",
    "4.\tDid you expect to see any differences between the “best features” in the different models you chose? Do you see any significant differences? (answer this using a markdown cell in the .ipynb file).\n",
    "\n",
    "5.\tCalculate the Principal Components for the same data set: (a) Normalize the data, (b) display correlation and covariance tables fort the normalized data, build the PCA following the in-class model, and finally display the explained variance for all the principal components.\n",
    "\n",
    "6.\tIn your opinion, what is the “best” number of Principal Components to use? (again, answer using a markdown cell).\n"
   ]
  },
  {
   "cell_type": "code",
   "execution_count": 78,
   "metadata": {},
   "outputs": [],
   "source": [
    "import pandas as pd\n",
    "import warnings\n",
    "warnings.filterwarnings(\"ignore\")"
   ]
  },
  {
   "cell_type": "code",
   "execution_count": 79,
   "metadata": {},
   "outputs": [
    {
     "data": {
      "text/html": [
       "<div>\n",
       "<style scoped>\n",
       "    .dataframe tbody tr th:only-of-type {\n",
       "        vertical-align: middle;\n",
       "    }\n",
       "\n",
       "    .dataframe tbody tr th {\n",
       "        vertical-align: top;\n",
       "    }\n",
       "\n",
       "    .dataframe thead th {\n",
       "        text-align: right;\n",
       "    }\n",
       "</style>\n",
       "<table border=\"1\" class=\"dataframe\">\n",
       "  <thead>\n",
       "    <tr style=\"text-align: right;\">\n",
       "      <th></th>\n",
       "      <th>state</th>\n",
       "      <th>sat</th>\n",
       "      <th>takers</th>\n",
       "      <th>income</th>\n",
       "      <th>years</th>\n",
       "      <th>public</th>\n",
       "      <th>expend</th>\n",
       "      <th>rank</th>\n",
       "    </tr>\n",
       "  </thead>\n",
       "  <tbody>\n",
       "    <tr>\n",
       "      <th>0</th>\n",
       "      <td>Iowa</td>\n",
       "      <td>1088</td>\n",
       "      <td>3</td>\n",
       "      <td>326</td>\n",
       "      <td>16.79</td>\n",
       "      <td>87.8</td>\n",
       "      <td>25.60</td>\n",
       "      <td>89.7</td>\n",
       "    </tr>\n",
       "    <tr>\n",
       "      <th>1</th>\n",
       "      <td>SouthDakota</td>\n",
       "      <td>1075</td>\n",
       "      <td>2</td>\n",
       "      <td>264</td>\n",
       "      <td>16.07</td>\n",
       "      <td>86.2</td>\n",
       "      <td>19.95</td>\n",
       "      <td>90.6</td>\n",
       "    </tr>\n",
       "    <tr>\n",
       "      <th>2</th>\n",
       "      <td>NorthDakota</td>\n",
       "      <td>1068</td>\n",
       "      <td>3</td>\n",
       "      <td>317</td>\n",
       "      <td>16.57</td>\n",
       "      <td>88.3</td>\n",
       "      <td>20.62</td>\n",
       "      <td>89.8</td>\n",
       "    </tr>\n",
       "    <tr>\n",
       "      <th>3</th>\n",
       "      <td>Kansas</td>\n",
       "      <td>1045</td>\n",
       "      <td>5</td>\n",
       "      <td>338</td>\n",
       "      <td>16.30</td>\n",
       "      <td>83.9</td>\n",
       "      <td>27.14</td>\n",
       "      <td>86.3</td>\n",
       "    </tr>\n",
       "    <tr>\n",
       "      <th>4</th>\n",
       "      <td>Nebraska</td>\n",
       "      <td>1045</td>\n",
       "      <td>5</td>\n",
       "      <td>293</td>\n",
       "      <td>17.25</td>\n",
       "      <td>83.6</td>\n",
       "      <td>21.05</td>\n",
       "      <td>88.5</td>\n",
       "    </tr>\n",
       "  </tbody>\n",
       "</table>\n",
       "</div>"
      ],
      "text/plain": [
       "         state   sat  takers  income  years  public  expend  rank\n",
       "0         Iowa  1088       3     326  16.79    87.8   25.60  89.7\n",
       "1  SouthDakota  1075       2     264  16.07    86.2   19.95  90.6\n",
       "2  NorthDakota  1068       3     317  16.57    88.3   20.62  89.8\n",
       "3       Kansas  1045       5     338  16.30    83.9   27.14  86.3\n",
       "4     Nebraska  1045       5     293  17.25    83.6   21.05  88.5"
      ]
     },
     "execution_count": 79,
     "metadata": {},
     "output_type": "execute_result"
    }
   ],
   "source": [
    "df = pd.read_csv(\"CASE1201.ASC.txt\", sep=' ', skipinitialspace=True)\n",
    "\n",
    "df.head(5)"
   ]
  },
  {
   "cell_type": "code",
   "execution_count": 80,
   "metadata": {},
   "outputs": [
    {
     "name": "stdout",
     "output_type": "stream",
     "text": [
      "<class 'pandas.core.frame.DataFrame'>\n",
      "RangeIndex: 50 entries, 0 to 49\n",
      "Data columns (total 8 columns):\n",
      " #   Column  Non-Null Count  Dtype  \n",
      "---  ------  --------------  -----  \n",
      " 0   state   50 non-null     object \n",
      " 1   sat     50 non-null     int64  \n",
      " 2   takers  50 non-null     int64  \n",
      " 3   income  50 non-null     int64  \n",
      " 4   years   50 non-null     float64\n",
      " 5   public  50 non-null     float64\n",
      " 6   expend  50 non-null     float64\n",
      " 7   rank    50 non-null     float64\n",
      "dtypes: float64(4), int64(3), object(1)\n",
      "memory usage: 3.3+ KB\n"
     ]
    }
   ],
   "source": [
    "df.info()"
   ]
  },
  {
   "cell_type": "markdown",
   "metadata": {},
   "source": [
    "**Question: 1.** Display the correlation and covariance tables for the raw features."
   ]
  },
  {
   "cell_type": "code",
   "execution_count": 81,
   "metadata": {},
   "outputs": [
    {
     "data": {
      "text/html": [
       "<div>\n",
       "<style scoped>\n",
       "    .dataframe tbody tr th:only-of-type {\n",
       "        vertical-align: middle;\n",
       "    }\n",
       "\n",
       "    .dataframe tbody tr th {\n",
       "        vertical-align: top;\n",
       "    }\n",
       "\n",
       "    .dataframe thead th {\n",
       "        text-align: right;\n",
       "    }\n",
       "</style>\n",
       "<table border=\"1\" class=\"dataframe\">\n",
       "  <thead>\n",
       "    <tr style=\"text-align: right;\">\n",
       "      <th></th>\n",
       "      <th>sat</th>\n",
       "      <th>takers</th>\n",
       "      <th>income</th>\n",
       "      <th>years</th>\n",
       "      <th>public</th>\n",
       "      <th>expend</th>\n",
       "      <th>rank</th>\n",
       "    </tr>\n",
       "  </thead>\n",
       "  <tbody>\n",
       "    <tr>\n",
       "      <th>sat</th>\n",
       "      <td>1.000000</td>\n",
       "      <td>-0.857810</td>\n",
       "      <td>0.584467</td>\n",
       "      <td>0.330969</td>\n",
       "      <td>-0.080357</td>\n",
       "      <td>-0.062878</td>\n",
       "      <td>0.879909</td>\n",
       "    </tr>\n",
       "    <tr>\n",
       "      <th>takers</th>\n",
       "      <td>-0.857810</td>\n",
       "      <td>1.000000</td>\n",
       "      <td>-0.661935</td>\n",
       "      <td>-0.101544</td>\n",
       "      <td>0.123556</td>\n",
       "      <td>0.283630</td>\n",
       "      <td>-0.942833</td>\n",
       "    </tr>\n",
       "    <tr>\n",
       "      <th>income</th>\n",
       "      <td>0.584467</td>\n",
       "      <td>-0.661935</td>\n",
       "      <td>1.000000</td>\n",
       "      <td>0.134762</td>\n",
       "      <td>-0.306567</td>\n",
       "      <td>0.131519</td>\n",
       "      <td>0.532700</td>\n",
       "    </tr>\n",
       "    <tr>\n",
       "      <th>years</th>\n",
       "      <td>0.330969</td>\n",
       "      <td>-0.101544</td>\n",
       "      <td>0.134762</td>\n",
       "      <td>1.000000</td>\n",
       "      <td>-0.417118</td>\n",
       "      <td>0.059829</td>\n",
       "      <td>0.070224</td>\n",
       "    </tr>\n",
       "    <tr>\n",
       "      <th>public</th>\n",
       "      <td>-0.080357</td>\n",
       "      <td>0.123556</td>\n",
       "      <td>-0.306567</td>\n",
       "      <td>-0.417118</td>\n",
       "      <td>1.000000</td>\n",
       "      <td>0.284591</td>\n",
       "      <td>0.050624</td>\n",
       "    </tr>\n",
       "    <tr>\n",
       "      <th>expend</th>\n",
       "      <td>-0.062878</td>\n",
       "      <td>0.283630</td>\n",
       "      <td>0.131519</td>\n",
       "      <td>0.059829</td>\n",
       "      <td>0.284591</td>\n",
       "      <td>1.000000</td>\n",
       "      <td>-0.264969</td>\n",
       "    </tr>\n",
       "    <tr>\n",
       "      <th>rank</th>\n",
       "      <td>0.879909</td>\n",
       "      <td>-0.942833</td>\n",
       "      <td>0.532700</td>\n",
       "      <td>0.070224</td>\n",
       "      <td>0.050624</td>\n",
       "      <td>-0.264969</td>\n",
       "      <td>1.000000</td>\n",
       "    </tr>\n",
       "  </tbody>\n",
       "</table>\n",
       "</div>"
      ],
      "text/plain": [
       "             sat    takers    income     years    public    expend      rank\n",
       "sat     1.000000 -0.857810  0.584467  0.330969 -0.080357 -0.062878  0.879909\n",
       "takers -0.857810  1.000000 -0.661935 -0.101544  0.123556  0.283630 -0.942833\n",
       "income  0.584467 -0.661935  1.000000  0.134762 -0.306567  0.131519  0.532700\n",
       "years   0.330969 -0.101544  0.134762  1.000000 -0.417118  0.059829  0.070224\n",
       "public -0.080357  0.123556 -0.306567 -0.417118  1.000000  0.284591  0.050624\n",
       "expend -0.062878  0.283630  0.131519  0.059829  0.284591  1.000000 -0.264969\n",
       "rank    0.879909 -0.942833  0.532700  0.070224  0.050624 -0.264969  1.000000"
      ]
     },
     "execution_count": 81,
     "metadata": {},
     "output_type": "execute_result"
    }
   ],
   "source": [
    "df.corr(method='pearson',numeric_only=True)"
   ]
  },
  {
   "cell_type": "code",
   "execution_count": 82,
   "metadata": {},
   "outputs": [
    {
     "data": {
      "text/html": [
       "<div>\n",
       "<style scoped>\n",
       "    .dataframe tbody tr th:only-of-type {\n",
       "        vertical-align: middle;\n",
       "    }\n",
       "\n",
       "    .dataframe tbody tr th {\n",
       "        vertical-align: top;\n",
       "    }\n",
       "\n",
       "    .dataframe thead th {\n",
       "        text-align: right;\n",
       "    }\n",
       "</style>\n",
       "<table border=\"1\" class=\"dataframe\">\n",
       "  <thead>\n",
       "    <tr style=\"text-align: right;\">\n",
       "      <th></th>\n",
       "      <th>sat</th>\n",
       "      <th>takers</th>\n",
       "      <th>income</th>\n",
       "      <th>years</th>\n",
       "      <th>public</th>\n",
       "      <th>expend</th>\n",
       "      <th>rank</th>\n",
       "    </tr>\n",
       "  </thead>\n",
       "  <tbody>\n",
       "    <tr>\n",
       "      <th>sat</th>\n",
       "      <td>5020.628980</td>\n",
       "      <td>-1338.557959</td>\n",
       "      <td>1809.468163</td>\n",
       "      <td>16.415461</td>\n",
       "      <td>-55.975265</td>\n",
       "      <td>-27.377412</td>\n",
       "      <td>406.695184</td>\n",
       "    </tr>\n",
       "    <tr>\n",
       "      <th>takers</th>\n",
       "      <td>-1338.557959</td>\n",
       "      <td>484.991429</td>\n",
       "      <td>-636.934286</td>\n",
       "      <td>-1.565331</td>\n",
       "      <td>26.750122</td>\n",
       "      <td>38.382824</td>\n",
       "      <td>-135.442204</td>\n",
       "    </tr>\n",
       "    <tr>\n",
       "      <th>income</th>\n",
       "      <td>1809.468163</td>\n",
       "      <td>-636.934286</td>\n",
       "      <td>1909.081224</td>\n",
       "      <td>4.121616</td>\n",
       "      <td>-131.683592</td>\n",
       "      <td>35.311747</td>\n",
       "      <td>151.826286</td>\n",
       "    </tr>\n",
       "    <tr>\n",
       "      <th>years</th>\n",
       "      <td>16.415461</td>\n",
       "      <td>-1.565331</td>\n",
       "      <td>4.121616</td>\n",
       "      <td>0.489975</td>\n",
       "      <td>-2.870384</td>\n",
       "      <td>0.257343</td>\n",
       "      <td>0.320643</td>\n",
       "    </tr>\n",
       "    <tr>\n",
       "      <th>public</th>\n",
       "      <td>-55.975265</td>\n",
       "      <td>26.750122</td>\n",
       "      <td>-131.683592</td>\n",
       "      <td>-2.870384</td>\n",
       "      <td>96.646922</td>\n",
       "      <td>17.192242</td>\n",
       "      <td>3.246376</td>\n",
       "    </tr>\n",
       "    <tr>\n",
       "      <th>expend</th>\n",
       "      <td>-27.377412</td>\n",
       "      <td>38.382824</td>\n",
       "      <td>35.311747</td>\n",
       "      <td>0.257343</td>\n",
       "      <td>17.192242</td>\n",
       "      <td>37.760192</td>\n",
       "      <td>-10.620972</td>\n",
       "    </tr>\n",
       "    <tr>\n",
       "      <th>rank</th>\n",
       "      <td>406.695184</td>\n",
       "      <td>-135.442204</td>\n",
       "      <td>151.826286</td>\n",
       "      <td>0.320643</td>\n",
       "      <td>3.246376</td>\n",
       "      <td>-10.620972</td>\n",
       "      <td>42.550465</td>\n",
       "    </tr>\n",
       "  </tbody>\n",
       "</table>\n",
       "</div>"
      ],
      "text/plain": [
       "                sat       takers       income      years      public  \\\n",
       "sat     5020.628980 -1338.557959  1809.468163  16.415461  -55.975265   \n",
       "takers -1338.557959   484.991429  -636.934286  -1.565331   26.750122   \n",
       "income  1809.468163  -636.934286  1909.081224   4.121616 -131.683592   \n",
       "years     16.415461    -1.565331     4.121616   0.489975   -2.870384   \n",
       "public   -55.975265    26.750122  -131.683592  -2.870384   96.646922   \n",
       "expend   -27.377412    38.382824    35.311747   0.257343   17.192242   \n",
       "rank     406.695184  -135.442204   151.826286   0.320643    3.246376   \n",
       "\n",
       "           expend        rank  \n",
       "sat    -27.377412  406.695184  \n",
       "takers  38.382824 -135.442204  \n",
       "income  35.311747  151.826286  \n",
       "years    0.257343    0.320643  \n",
       "public  17.192242    3.246376  \n",
       "expend  37.760192  -10.620972  \n",
       "rank   -10.620972   42.550465  "
      ]
     },
     "execution_count": 82,
     "metadata": {},
     "output_type": "execute_result"
    }
   ],
   "source": [
    "df.cov(numeric_only=True)"
   ]
  },
  {
   "cell_type": "code",
   "execution_count": 83,
   "metadata": {},
   "outputs": [
    {
     "data": {
      "text/plain": [
       "<Axes: >"
      ]
     },
     "execution_count": 83,
     "metadata": {},
     "output_type": "execute_result"
    },
    {
     "data": {
      "image/png": "[encoded data removed]",
      "text/plain": [
       "<Figure size 640x480 with 2 Axes>"
      ]
     },
     "metadata": {},
     "output_type": "display_data"
    }
   ],
   "source": [
    "import seaborn as sns\n",
    "\n",
    "sns.heatmap(df.corr(method='pearson',numeric_only=True), annot=True )\n"
   ]
  },
  {
   "cell_type": "markdown",
   "metadata": {},
   "source": [
    "**Question: 2.**\tBuild a: (a)  simple (intercept + takers) and (b) full linear regression model to predict the SAT scores. (that is, simply copy the first two models from the SAT_example.ipynb presented in class.)"
   ]
  },
  {
   "cell_type": "markdown",
   "metadata": {},
   "source": [
    "Build **Simple Linear Regression** using **takers** variable"
   ]
  },
  {
   "cell_type": "code",
   "execution_count": 84,
   "metadata": {},
   "outputs": [
    {
     "data": {
      "text/html": [
       "<table class=\"simpletable\">\n",
       "<caption>OLS Regression Results</caption>\n",
       "<tr>\n",
       "  <th>Dep. Variable:</th>           <td>sat</td>       <th>  R-squared:         </th> <td>   0.736</td>\n",
       "</tr>\n",
       "<tr>\n",
       "  <th>Model:</th>                   <td>OLS</td>       <th>  Adj. R-squared:    </th> <td>   0.730</td>\n",
       "</tr>\n",
       "<tr>\n",
       "  <th>Method:</th>             <td>Least Squares</td>  <th>  F-statistic:       </th> <td>   133.7</td>\n",
       "</tr>\n",
       "<tr>\n",
       "  <th>Date:</th>             <td>Tue, 12 Nov 2024</td> <th>  Prob (F-statistic):</th> <td>1.77e-15</td>\n",
       "</tr>\n",
       "<tr>\n",
       "  <th>Time:</th>                 <td>12:33:58</td>     <th>  Log-Likelihood:    </th> <td> -250.19</td>\n",
       "</tr>\n",
       "<tr>\n",
       "  <th>No. Observations:</th>      <td>    50</td>      <th>  AIC:               </th> <td>   504.4</td>\n",
       "</tr>\n",
       "<tr>\n",
       "  <th>Df Residuals:</th>          <td>    48</td>      <th>  BIC:               </th> <td>   508.2</td>\n",
       "</tr>\n",
       "<tr>\n",
       "  <th>Df Model:</th>              <td>     1</td>      <th>                     </th>     <td> </td>   \n",
       "</tr>\n",
       "<tr>\n",
       "  <th>Covariance Type:</th>      <td>nonrobust</td>    <th>                     </th>     <td> </td>   \n",
       "</tr>\n",
       "</table>\n",
       "<table class=\"simpletable\">\n",
       "<tr>\n",
       "      <td></td>         <th>coef</th>     <th>std err</th>      <th>t</th>      <th>P>|t|</th>  <th>[0.025</th>    <th>0.975]</th>  \n",
       "</tr>\n",
       "<tr>\n",
       "  <th>intercept</th> <td> 1020.3062</td> <td>    8.139</td> <td>  125.359</td> <td> 0.000</td> <td> 1003.941</td> <td> 1036.671</td>\n",
       "</tr>\n",
       "<tr>\n",
       "  <th>takers</th>    <td>   -2.7600</td> <td>    0.239</td> <td>  -11.563</td> <td> 0.000</td> <td>   -3.240</td> <td>   -2.280</td>\n",
       "</tr>\n",
       "</table>\n",
       "<table class=\"simpletable\">\n",
       "<tr>\n",
       "  <th>Omnibus:</th>       <td> 0.370</td> <th>  Durbin-Watson:     </th> <td>   0.764</td>\n",
       "</tr>\n",
       "<tr>\n",
       "  <th>Prob(Omnibus):</th> <td> 0.831</td> <th>  Jarque-Bera (JB):  </th> <td>   0.144</td>\n",
       "</tr>\n",
       "<tr>\n",
       "  <th>Skew:</th>          <td>-0.131</td> <th>  Prob(JB):          </th> <td>   0.931</td>\n",
       "</tr>\n",
       "<tr>\n",
       "  <th>Kurtosis:</th>      <td> 3.011</td> <th>  Cond. No.          </th> <td>    53.4</td>\n",
       "</tr>\n",
       "</table><br/><br/>Notes:<br/>[1] Standard Errors assume that the covariance matrix of the errors is correctly specified."
      ],
      "text/latex": [
       "\\begin{center}\n",
       "\\begin{tabular}{lclc}\n",
       "\\toprule\n",
       "\\textbf{Dep. Variable:}    &       sat        & \\textbf{  R-squared:         } &     0.736   \\\\\n",
       "\\textbf{Model:}            &       OLS        & \\textbf{  Adj. R-squared:    } &     0.730   \\\\\n",
       "\\textbf{Method:}           &  Least Squares   & \\textbf{  F-statistic:       } &     133.7   \\\\\n",
       "\\textbf{Date:}             & Tue, 12 Nov 2024 & \\textbf{  Prob (F-statistic):} &  1.77e-15   \\\\\n",
       "\\textbf{Time:}             &     12:33:58     & \\textbf{  Log-Likelihood:    } &   -250.19   \\\\\n",
       "\\textbf{No. Observations:} &          50      & \\textbf{  AIC:               } &     504.4   \\\\\n",
       "\\textbf{Df Residuals:}     &          48      & \\textbf{  BIC:               } &     508.2   \\\\\n",
       "\\textbf{Df Model:}         &           1      & \\textbf{                     } &             \\\\\n",
       "\\textbf{Covariance Type:}  &    nonrobust     & \\textbf{                     } &             \\\\\n",
       "\\bottomrule\n",
       "\\end{tabular}\n",
       "\\begin{tabular}{lcccccc}\n",
       "                   & \\textbf{coef} & \\textbf{std err} & \\textbf{t} & \\textbf{P$> |$t$|$} & \\textbf{[0.025} & \\textbf{0.975]}  \\\\\n",
       "\\midrule\n",
       "\\textbf{intercept} &    1020.3062  &        8.139     &   125.359  &         0.000        &     1003.941    &     1036.671     \\\\\n",
       "\\textbf{takers}    &      -2.7600  &        0.239     &   -11.563  &         0.000        &       -3.240    &       -2.280     \\\\\n",
       "\\bottomrule\n",
       "\\end{tabular}\n",
       "\\begin{tabular}{lclc}\n",
       "\\textbf{Omnibus:}       &  0.370 & \\textbf{  Durbin-Watson:     } &    0.764  \\\\\n",
       "\\textbf{Prob(Omnibus):} &  0.831 & \\textbf{  Jarque-Bera (JB):  } &    0.144  \\\\\n",
       "\\textbf{Skew:}          & -0.131 & \\textbf{  Prob(JB):          } &    0.931  \\\\\n",
       "\\textbf{Kurtosis:}      &  3.011 & \\textbf{  Cond. No.          } &     53.4  \\\\\n",
       "\\bottomrule\n",
       "\\end{tabular}\n",
       "%\\caption{OLS Regression Results}\n",
       "\\end{center}\n",
       "\n",
       "Notes: \\newline\n",
       " [1] Standard Errors assume that the covariance matrix of the errors is correctly specified."
      ],
      "text/plain": [
       "<class 'statsmodels.iolib.summary.Summary'>\n",
       "\"\"\"\n",
       "                            OLS Regression Results                            \n",
       "==============================================================================\n",
       "Dep. Variable:                    sat   R-squared:                       0.736\n",
       "Model:                            OLS   Adj. R-squared:                  0.730\n",
       "Method:                 Least Squares   F-statistic:                     133.7\n",
       "Date:                Tue, 12 Nov 2024   Prob (F-statistic):           1.77e-15\n",
       "Time:                        12:33:58   Log-Likelihood:                -250.19\n",
       "No. Observations:                  50   AIC:                             504.4\n",
       "Df Residuals:                      48   BIC:                             508.2\n",
       "Df Model:                           1                                         \n",
       "Covariance Type:            nonrobust                                         \n",
       "==============================================================================\n",
       "                 coef    std err          t      P>|t|      [0.025      0.975]\n",
       "------------------------------------------------------------------------------\n",
       "intercept   1020.3062      8.139    125.359      0.000    1003.941    1036.671\n",
       "takers        -2.7600      0.239    -11.563      0.000      -3.240      -2.280\n",
       "==============================================================================\n",
       "Omnibus:                        0.370   Durbin-Watson:                   0.764\n",
       "Prob(Omnibus):                  0.831   Jarque-Bera (JB):                0.144\n",
       "Skew:                          -0.131   Prob(JB):                        0.931\n",
       "Kurtosis:                       3.011   Cond. No.                         53.4\n",
       "==============================================================================\n",
       "\n",
       "Notes:\n",
       "[1] Standard Errors assume that the covariance matrix of the errors is correctly specified.\n",
       "\"\"\""
      ]
     },
     "execution_count": 84,
     "metadata": {},
     "output_type": "execute_result"
    }
   ],
   "source": [
    "import statsmodels.api as sm\n",
    "\n",
    "X = df[['takers']]\n",
    "y= df['sat']\n",
    "\n",
    "X_with_constant = sm.add_constant(X)\n",
    "model = sm.OLS(y, X_with_constant).fit()\n",
    "model.summary(xname=['intercept','takers'])\n"
   ]
  },
  {
   "cell_type": "markdown",
   "metadata": {},
   "source": [
    "Build **Full Linear Regression** using all variable"
   ]
  },
  {
   "cell_type": "code",
   "execution_count": 85,
   "metadata": {},
   "outputs": [
    {
     "data": {
      "text/html": [
       "<table class=\"simpletable\">\n",
       "<caption>OLS Regression Results</caption>\n",
       "<tr>\n",
       "  <th>Dep. Variable:</th>           <td>sat</td>       <th>  R-squared:         </th> <td>   0.879</td>\n",
       "</tr>\n",
       "<tr>\n",
       "  <th>Model:</th>                   <td>OLS</td>       <th>  Adj. R-squared:    </th> <td>   0.862</td>\n",
       "</tr>\n",
       "<tr>\n",
       "  <th>Method:</th>             <td>Least Squares</td>  <th>  F-statistic:       </th> <td>   51.91</td>\n",
       "</tr>\n",
       "<tr>\n",
       "  <th>Date:</th>             <td>Tue, 12 Nov 2024</td> <th>  Prob (F-statistic):</th> <td>4.16e-18</td>\n",
       "</tr>\n",
       "<tr>\n",
       "  <th>Time:</th>                 <td>12:33:58</td>     <th>  Log-Likelihood:    </th> <td> -230.74</td>\n",
       "</tr>\n",
       "<tr>\n",
       "  <th>No. Observations:</th>      <td>    50</td>      <th>  AIC:               </th> <td>   475.5</td>\n",
       "</tr>\n",
       "<tr>\n",
       "  <th>Df Residuals:</th>          <td>    43</td>      <th>  BIC:               </th> <td>   488.9</td>\n",
       "</tr>\n",
       "<tr>\n",
       "  <th>Df Model:</th>              <td>     6</td>      <th>                     </th>     <td> </td>   \n",
       "</tr>\n",
       "<tr>\n",
       "  <th>Covariance Type:</th>      <td>nonrobust</td>    <th>                     </th>     <td> </td>   \n",
       "</tr>\n",
       "</table>\n",
       "<table class=\"simpletable\">\n",
       "<tr>\n",
       "      <td></td>         <th>coef</th>     <th>std err</th>      <th>t</th>      <th>P>|t|</th>  <th>[0.025</th>    <th>0.975]</th>  \n",
       "</tr>\n",
       "<tr>\n",
       "  <th>intercept</th> <td>  -94.6591</td> <td>  211.510</td> <td>   -0.448</td> <td> 0.657</td> <td> -521.209</td> <td>  331.891</td>\n",
       "</tr>\n",
       "<tr>\n",
       "  <th>takers</th>    <td>   -0.4801</td> <td>    0.694</td> <td>   -0.692</td> <td> 0.493</td> <td>   -1.879</td> <td>    0.919</td>\n",
       "</tr>\n",
       "<tr>\n",
       "  <th>income</th>    <td>   -0.0082</td> <td>    0.152</td> <td>   -0.054</td> <td> 0.957</td> <td>   -0.315</td> <td>    0.299</td>\n",
       "</tr>\n",
       "<tr>\n",
       "  <th>years</th>     <td>   22.6101</td> <td>    6.315</td> <td>    3.581</td> <td> 0.001</td> <td>    9.876</td> <td>   35.345</td>\n",
       "</tr>\n",
       "<tr>\n",
       "  <th>public</th>    <td>   -0.4642</td> <td>    0.579</td> <td>   -0.802</td> <td> 0.427</td> <td>   -1.632</td> <td>    0.704</td>\n",
       "</tr>\n",
       "<tr>\n",
       "  <th>expend</th>    <td>    2.2120</td> <td>    0.846</td> <td>    2.615</td> <td> 0.012</td> <td>    0.506</td> <td>    3.918</td>\n",
       "</tr>\n",
       "<tr>\n",
       "  <th>rank</th>      <td>    8.4762</td> <td>    2.108</td> <td>    4.021</td> <td> 0.000</td> <td>    4.225</td> <td>   12.727</td>\n",
       "</tr>\n",
       "</table>\n",
       "<table class=\"simpletable\">\n",
       "<tr>\n",
       "  <th>Omnibus:</th>       <td> 3.692</td> <th>  Durbin-Watson:     </th> <td>   1.497</td>\n",
       "</tr>\n",
       "<tr>\n",
       "  <th>Prob(Omnibus):</th> <td> 0.158</td> <th>  Jarque-Bera (JB):  </th> <td>   2.957</td>\n",
       "</tr>\n",
       "<tr>\n",
       "  <th>Skew:</th>          <td>-0.591</td> <th>  Prob(JB):          </th> <td>   0.228</td>\n",
       "</tr>\n",
       "<tr>\n",
       "  <th>Kurtosis:</th>      <td> 3.152</td> <th>  Cond. No.          </th> <td>1.82e+04</td>\n",
       "</tr>\n",
       "</table><br/><br/>Notes:<br/>[1] Standard Errors assume that the covariance matrix of the errors is correctly specified.<br/>[2] The condition number is large, 1.82e+04. This might indicate that there are<br/>strong multicollinearity or other numerical problems."
      ],
      "text/latex": [
       "\\begin{center}\n",
       "\\begin{tabular}{lclc}\n",
       "\\toprule\n",
       "\\textbf{Dep. Variable:}    &       sat        & \\textbf{  R-squared:         } &     0.879   \\\\\n",
       "\\textbf{Model:}            &       OLS        & \\textbf{  Adj. R-squared:    } &     0.862   \\\\\n",
       "\\textbf{Method:}           &  Least Squares   & \\textbf{  F-statistic:       } &     51.91   \\\\\n",
       "\\textbf{Date:}             & Tue, 12 Nov 2024 & \\textbf{  Prob (F-statistic):} &  4.16e-18   \\\\\n",
       "\\textbf{Time:}             &     12:33:58     & \\textbf{  Log-Likelihood:    } &   -230.74   \\\\\n",
       "\\textbf{No. Observations:} &          50      & \\textbf{  AIC:               } &     475.5   \\\\\n",
       "\\textbf{Df Residuals:}     &          43      & \\textbf{  BIC:               } &     488.9   \\\\\n",
       "\\textbf{Df Model:}         &           6      & \\textbf{                     } &             \\\\\n",
       "\\textbf{Covariance Type:}  &    nonrobust     & \\textbf{                     } &             \\\\\n",
       "\\bottomrule\n",
       "\\end{tabular}\n",
       "\\begin{tabular}{lcccccc}\n",
       "                   & \\textbf{coef} & \\textbf{std err} & \\textbf{t} & \\textbf{P$> |$t$|$} & \\textbf{[0.025} & \\textbf{0.975]}  \\\\\n",
       "\\midrule\n",
       "\\textbf{intercept} &     -94.6591  &      211.510     &    -0.448  &         0.657        &     -521.209    &      331.891     \\\\\n",
       "\\textbf{takers}    &      -0.4801  &        0.694     &    -0.692  &         0.493        &       -1.879    &        0.919     \\\\\n",
       "\\textbf{income}    &      -0.0082  &        0.152     &    -0.054  &         0.957        &       -0.315    &        0.299     \\\\\n",
       "\\textbf{years}     &      22.6101  &        6.315     &     3.581  &         0.001        &        9.876    &       35.345     \\\\\n",
       "\\textbf{public}    &      -0.4642  &        0.579     &    -0.802  &         0.427        &       -1.632    &        0.704     \\\\\n",
       "\\textbf{expend}    &       2.2120  &        0.846     &     2.615  &         0.012        &        0.506    &        3.918     \\\\\n",
       "\\textbf{rank}      &       8.4762  &        2.108     &     4.021  &         0.000        &        4.225    &       12.727     \\\\\n",
       "\\bottomrule\n",
       "\\end{tabular}\n",
       "\\begin{tabular}{lclc}\n",
       "\\textbf{Omnibus:}       &  3.692 & \\textbf{  Durbin-Watson:     } &    1.497  \\\\\n",
       "\\textbf{Prob(Omnibus):} &  0.158 & \\textbf{  Jarque-Bera (JB):  } &    2.957  \\\\\n",
       "\\textbf{Skew:}          & -0.591 & \\textbf{  Prob(JB):          } &    0.228  \\\\\n",
       "\\textbf{Kurtosis:}      &  3.152 & \\textbf{  Cond. No.          } & 1.82e+04  \\\\\n",
       "\\bottomrule\n",
       "\\end{tabular}\n",
       "%\\caption{OLS Regression Results}\n",
       "\\end{center}\n",
       "\n",
       "Notes: \\newline\n",
       " [1] Standard Errors assume that the covariance matrix of the errors is correctly specified. \\newline\n",
       " [2] The condition number is large, 1.82e+04. This might indicate that there are \\newline\n",
       " strong multicollinearity or other numerical problems."
      ],
      "text/plain": [
       "<class 'statsmodels.iolib.summary.Summary'>\n",
       "\"\"\"\n",
       "                            OLS Regression Results                            \n",
       "==============================================================================\n",
       "Dep. Variable:                    sat   R-squared:                       0.879\n",
       "Model:                            OLS   Adj. R-squared:                  0.862\n",
       "Method:                 Least Squares   F-statistic:                     51.91\n",
       "Date:                Tue, 12 Nov 2024   Prob (F-statistic):           4.16e-18\n",
       "Time:                        12:33:58   Log-Likelihood:                -230.74\n",
       "No. Observations:                  50   AIC:                             475.5\n",
       "Df Residuals:                      43   BIC:                             488.9\n",
       "Df Model:                           6                                         \n",
       "Covariance Type:            nonrobust                                         \n",
       "==============================================================================\n",
       "                 coef    std err          t      P>|t|      [0.025      0.975]\n",
       "------------------------------------------------------------------------------\n",
       "intercept    -94.6591    211.510     -0.448      0.657    -521.209     331.891\n",
       "takers        -0.4801      0.694     -0.692      0.493      -1.879       0.919\n",
       "income        -0.0082      0.152     -0.054      0.957      -0.315       0.299\n",
       "years         22.6101      6.315      3.581      0.001       9.876      35.345\n",
       "public        -0.4642      0.579     -0.802      0.427      -1.632       0.704\n",
       "expend         2.2120      0.846      2.615      0.012       0.506       3.918\n",
       "rank           8.4762      2.108      4.021      0.000       4.225      12.727\n",
       "==============================================================================\n",
       "Omnibus:                        3.692   Durbin-Watson:                   1.497\n",
       "Prob(Omnibus):                  0.158   Jarque-Bera (JB):                2.957\n",
       "Skew:                          -0.591   Prob(JB):                        0.228\n",
       "Kurtosis:                       3.152   Cond. No.                     1.82e+04\n",
       "==============================================================================\n",
       "\n",
       "Notes:\n",
       "[1] Standard Errors assume that the covariance matrix of the errors is correctly specified.\n",
       "[2] The condition number is large, 1.82e+04. This might indicate that there are\n",
       "strong multicollinearity or other numerical problems.\n",
       "\"\"\""
      ]
     },
     "execution_count": 85,
     "metadata": {},
     "output_type": "execute_result"
    }
   ],
   "source": [
    "X_full=df[['takers', 'income', 'years', 'public', 'expend','rank']]\n",
    "X_full_with_constant = sm.add_constant(df[['takers', 'income', 'years', 'public', 'expend','rank']])\n",
    "\n",
    "model_full = sm.OLS(y,X_full_with_constant).fit()\n",
    "model_full.summary(xname=['intercept','takers', 'income', 'years', 'public','expend','rank'])\n"
   ]
  },
  {
   "cell_type": "markdown",
   "metadata": {},
   "source": [
    "**Summary** Full regression model performs better compared to simple linear regression. As full model successfully capture the variability of features and loss of information is zero when all the features are selected. But when only one feature is taken than the information that other features carries got lost. So, full regression model better perform here."
   ]
  },
  {
   "cell_type": "markdown",
   "metadata": {},
   "source": [
    "**Question:3.**\tChoose at least one method from each of the three feature selection techniques (filter, wrapper, and embedded). Select and report the “best” features using these three methods."
   ]
  },
  {
   "cell_type": "markdown",
   "metadata": {},
   "source": [
    "From **Filter** technique **Information Gain** selection method is used."
   ]
  },
  {
   "cell_type": "code",
   "execution_count": 86,
   "metadata": {},
   "outputs": [
    {
     "name": "stdout",
     "output_type": "stream",
     "text": [
      "Selected important features based on Information Gain for Regression:\n",
      "  Feature  Information Gain\n",
      "0  takers          0.697953\n",
      "1  income          0.307157\n",
      "5    rank          0.774553\n"
     ]
    }
   ],
   "source": [
    "from sklearn.feature_selection import mutual_info_regression\n",
    "\n",
    "# First calculating the mutual information scores for regression using mutual_info_regression\n",
    "informationGain_scores = mutual_info_regression(X_full, y)\n",
    "\n",
    "# Create a DataFrame to display feature importance based on information gain\n",
    "informationGain_scores_df = pd.DataFrame({'Feature': X_full.columns, 'Information Gain': informationGain_scores})\n",
    "\n",
    "# Sort features by importance (descending)\n",
    "informationGain_scores_df = informationGain_scores_df.sort_values(by='Information Gain', ascending=False)\n",
    "\n",
    "# select top 3 features from the informationGain_scores_df\n",
    "selected_feature_df= informationGain_scores_df.nlargest(3, 'Information Gain').sort_index(axis=0)\n",
    "\n",
    "# Print selected features\n",
    "print(\"Selected important features based on Information Gain for Regression:\")\n",
    "print(selected_feature_df)"
   ]
  },
  {
   "cell_type": "markdown",
   "metadata": {},
   "source": [
    "**Summary:** From above information gain selection process using mutual_info_regression, it has selected top three features based on the information gain which are **'takers', 'income', 'rank'**"
   ]
  },
  {
   "cell_type": "markdown",
   "metadata": {},
   "source": [
    "\n",
    "From **Wrapper** technique **Exhaustive Feature** selection method is used."
   ]
  },
  {
   "cell_type": "code",
   "execution_count": null,
   "metadata": {},
   "outputs": [
    {
     "name": "stderr",
     "output_type": "stream",
     "text": [
      "Features: 41/41"
     ]
    },
    {
     "name": "stdout",
     "output_type": "stream",
     "text": [
      "Selected important features based on Exhaustive Feature Selection:\n",
      "['years', 'expend', 'rank']\n"
     ]
    }
   ],
   "source": [
    "from mlxtend.feature_selection import ExhaustiveFeatureSelector\n",
    "from sklearn.linear_model import LinearRegression\n",
    "\n",
    "# First initialize the linear regression model\n",
    "model = LinearRegression()\n",
    "\n",
    "# Using exhaustive feature selector and providing parameters. \n",
    "# here, min_feature and man_feature are the no of features that exhaustive feature selector \n",
    "# works on to get the best match\n",
    "efs = ExhaustiveFeatureSelector(\n",
    "    model,\n",
    "    min_features=1,\n",
    "    max_features=3, \n",
    "    scoring='r2',  \n",
    "    cv=5  \n",
    ")\n",
    "\n",
    "# Mow fitting the selector to the training data\n",
    "efs = efs.fit(X_full, y)\n",
    "\n",
    "# Now get the selected features\n",
    "selected_features = list(efs.best_feature_names_)\n",
    "\n",
    "# Print selected features\n",
    "print(\"Selected important features based on Exhaustive Feature Selection:\")\n",
    "print(selected_features)"
   ]
  },
  {
   "cell_type": "markdown",
   "metadata": {},
   "source": [
    "**Summary:** From above exhustive feature selection process using ExhustiveFeatireSelector, it has selected top three features which are **'takers', 'expend', 'rank'**"
   ]
  },
  {
   "cell_type": "markdown",
   "metadata": {},
   "source": [
    "\n",
    "From **Embedded** technique using **Elastic Net** selection method is used."
   ]
  },
  {
   "cell_type": "code",
   "execution_count": 88,
   "metadata": {},
   "outputs": [],
   "source": [
    "from sklearn.linear_model import ElasticNet\n",
    "from sklearn.preprocessing import StandardScaler"
   ]
  },
  {
   "cell_type": "code",
   "execution_count": null,
   "metadata": {},
   "outputs": [
    {
     "name": "stdout",
     "output_type": "stream",
     "text": [
      "Selected important features based on ElasticNet:\n",
      "  Feature  Coefficient\n",
      "2   years    19.738259\n",
      "4  expend     2.320676\n",
      "5    rank     8.496354\n"
     ]
    }
   ],
   "source": [
    "# First initialize alpha and l1_ratio values and initilize elasticnet\n",
    "alpha = 0.1  # Regularization strength\n",
    "l1_ratio = 0.5  # Balance between L1 and L2 regularization\n",
    "elastic_net = ElasticNet(alpha=alpha, l1_ratio=l1_ratio, random_state=42)\n",
    "elastic_net.fit(X_full, y)\n",
    "\n",
    "# Now extract feature importances (coefficients) and put it in dataframe\n",
    "feature_importance = pd.DataFrame({\n",
    "    'Feature': X_full.columns,\n",
    "    'Coefficient': elastic_net.coef_\n",
    "})\n",
    "\n",
    "# Filter to keep only features with absolute value greater than 1\n",
    "important_features = feature_importance[feature_importance['Coefficient'].abs() > 1].sort_index(axis=0)\n",
    "\n",
    "# Print selected important features\n",
    "print(\"Selected important features based on ElasticNet:\")\n",
    "print(important_features)"
   ]
  },
  {
   "cell_type": "markdown",
   "metadata": {},
   "source": [
    "**Summary:** From above embaded feature selection process using Elasticnet, it has selected top three features which are **'takers', 'expend', 'rank'**. The feature selection using Exhustive selection and Elastic net is same as both the methods found same features."
   ]
  },
  {
   "cell_type": "markdown",
   "metadata": {},
   "source": [
    "**Now Performing Model building using the selective features.**"
   ]
  },
  {
   "cell_type": "markdown",
   "metadata": {},
   "source": [
    "Using features from **Filter Selection Technique using Information Gain method**\n",
    "['takers', 'income', 'rank']"
   ]
  },
  {
   "cell_type": "code",
   "execution_count": 126,
   "metadata": {},
   "outputs": [
    {
     "data": {
      "text/html": [
       "<table class=\"simpletable\">\n",
       "<caption>OLS Regression Results</caption>\n",
       "<tr>\n",
       "  <th>Dep. Variable:</th>           <td>sat</td>       <th>  R-squared:         </th> <td>   0.793</td>\n",
       "</tr>\n",
       "<tr>\n",
       "  <th>Model:</th>                   <td>OLS</td>       <th>  Adj. R-squared:    </th> <td>   0.780</td>\n",
       "</tr>\n",
       "<tr>\n",
       "  <th>Method:</th>             <td>Least Squares</td>  <th>  F-statistic:       </th> <td>   58.75</td>\n",
       "</tr>\n",
       "<tr>\n",
       "  <th>Date:</th>             <td>Tue, 12 Nov 2024</td> <th>  Prob (F-statistic):</th> <td>9.09e-16</td>\n",
       "</tr>\n",
       "<tr>\n",
       "  <th>Time:</th>                 <td>12:59:26</td>     <th>  Log-Likelihood:    </th> <td> -244.10</td>\n",
       "</tr>\n",
       "<tr>\n",
       "  <th>No. Observations:</th>      <td>    50</td>      <th>  AIC:               </th> <td>   496.2</td>\n",
       "</tr>\n",
       "<tr>\n",
       "  <th>Df Residuals:</th>          <td>    46</td>      <th>  BIC:               </th> <td>   503.8</td>\n",
       "</tr>\n",
       "<tr>\n",
       "  <th>Df Model:</th>              <td>     3</td>      <th>                     </th>     <td> </td>   \n",
       "</tr>\n",
       "<tr>\n",
       "  <th>Covariance Type:</th>      <td>nonrobust</td>    <th>                     </th>     <td> </td>   \n",
       "</tr>\n",
       "</table>\n",
       "<table class=\"simpletable\">\n",
       "<tr>\n",
       "      <td></td>        <th>coef</th>     <th>std err</th>      <th>t</th>      <th>P>|t|</th>  <th>[0.025</th>    <th>0.975]</th>  \n",
       "</tr>\n",
       "<tr>\n",
       "  <th>constant</th> <td>  209.9814</td> <td>  228.987</td> <td>    0.917</td> <td> 0.364</td> <td> -250.945</td> <td>  670.907</td>\n",
       "</tr>\n",
       "<tr>\n",
       "  <th>takers</th>   <td>   -0.1022</td> <td>    0.786</td> <td>   -0.130</td> <td> 0.897</td> <td>   -1.684</td> <td>    1.479</td>\n",
       "</tr>\n",
       "<tr>\n",
       "  <th>income</th>   <td>    0.2506</td> <td>    0.156</td> <td>    1.607</td> <td> 0.115</td> <td>   -0.063</td> <td>    0.564</td>\n",
       "</tr>\n",
       "<tr>\n",
       "  <th>rank</th>     <td>    8.3385</td> <td>    2.349</td> <td>    3.549</td> <td> 0.001</td> <td>    3.610</td> <td>   13.067</td>\n",
       "</tr>\n",
       "</table>\n",
       "<table class=\"simpletable\">\n",
       "<tr>\n",
       "  <th>Omnibus:</th>       <td> 3.294</td> <th>  Durbin-Watson:     </th> <td>   0.939</td>\n",
       "</tr>\n",
       "<tr>\n",
       "  <th>Prob(Omnibus):</th> <td> 0.193</td> <th>  Jarque-Bera (JB):  </th> <td>   3.114</td>\n",
       "</tr>\n",
       "<tr>\n",
       "  <th>Skew:</th>          <td>-0.593</td> <th>  Prob(JB):          </th> <td>   0.211</td>\n",
       "</tr>\n",
       "<tr>\n",
       "  <th>Kurtosis:</th>      <td> 2.700</td> <th>  Cond. No.          </th> <td>1.50e+04</td>\n",
       "</tr>\n",
       "</table><br/><br/>Notes:<br/>[1] Standard Errors assume that the covariance matrix of the errors is correctly specified.<br/>[2] The condition number is large, 1.5e+04. This might indicate that there are<br/>strong multicollinearity or other numerical problems."
      ],
      "text/latex": [
       "\\begin{center}\n",
       "\\begin{tabular}{lclc}\n",
       "\\toprule\n",
       "\\textbf{Dep. Variable:}    &       sat        & \\textbf{  R-squared:         } &     0.793   \\\\\n",
       "\\textbf{Model:}            &       OLS        & \\textbf{  Adj. R-squared:    } &     0.780   \\\\\n",
       "\\textbf{Method:}           &  Least Squares   & \\textbf{  F-statistic:       } &     58.75   \\\\\n",
       "\\textbf{Date:}             & Tue, 12 Nov 2024 & \\textbf{  Prob (F-statistic):} &  9.09e-16   \\\\\n",
       "\\textbf{Time:}             &     12:59:26     & \\textbf{  Log-Likelihood:    } &   -244.10   \\\\\n",
       "\\textbf{No. Observations:} &          50      & \\textbf{  AIC:               } &     496.2   \\\\\n",
       "\\textbf{Df Residuals:}     &          46      & \\textbf{  BIC:               } &     503.8   \\\\\n",
       "\\textbf{Df Model:}         &           3      & \\textbf{                     } &             \\\\\n",
       "\\textbf{Covariance Type:}  &    nonrobust     & \\textbf{                     } &             \\\\\n",
       "\\bottomrule\n",
       "\\end{tabular}\n",
       "\\begin{tabular}{lcccccc}\n",
       "                  & \\textbf{coef} & \\textbf{std err} & \\textbf{t} & \\textbf{P$> |$t$|$} & \\textbf{[0.025} & \\textbf{0.975]}  \\\\\n",
       "\\midrule\n",
       "\\textbf{constant} &     209.9814  &      228.987     &     0.917  &         0.364        &     -250.945    &      670.907     \\\\\n",
       "\\textbf{takers}   &      -0.1022  &        0.786     &    -0.130  &         0.897        &       -1.684    &        1.479     \\\\\n",
       "\\textbf{income}   &       0.2506  &        0.156     &     1.607  &         0.115        &       -0.063    &        0.564     \\\\\n",
       "\\textbf{rank}     &       8.3385  &        2.349     &     3.549  &         0.001        &        3.610    &       13.067     \\\\\n",
       "\\bottomrule\n",
       "\\end{tabular}\n",
       "\\begin{tabular}{lclc}\n",
       "\\textbf{Omnibus:}       &  3.294 & \\textbf{  Durbin-Watson:     } &    0.939  \\\\\n",
       "\\textbf{Prob(Omnibus):} &  0.193 & \\textbf{  Jarque-Bera (JB):  } &    3.114  \\\\\n",
       "\\textbf{Skew:}          & -0.593 & \\textbf{  Prob(JB):          } &    0.211  \\\\\n",
       "\\textbf{Kurtosis:}      &  2.700 & \\textbf{  Cond. No.          } & 1.50e+04  \\\\\n",
       "\\bottomrule\n",
       "\\end{tabular}\n",
       "%\\caption{OLS Regression Results}\n",
       "\\end{center}\n",
       "\n",
       "Notes: \\newline\n",
       " [1] Standard Errors assume that the covariance matrix of the errors is correctly specified. \\newline\n",
       " [2] The condition number is large, 1.5e+04. This might indicate that there are \\newline\n",
       " strong multicollinearity or other numerical problems."
      ],
      "text/plain": [
       "<class 'statsmodels.iolib.summary.Summary'>\n",
       "\"\"\"\n",
       "                            OLS Regression Results                            \n",
       "==============================================================================\n",
       "Dep. Variable:                    sat   R-squared:                       0.793\n",
       "Model:                            OLS   Adj. R-squared:                  0.780\n",
       "Method:                 Least Squares   F-statistic:                     58.75\n",
       "Date:                Tue, 12 Nov 2024   Prob (F-statistic):           9.09e-16\n",
       "Time:                        12:59:26   Log-Likelihood:                -244.10\n",
       "No. Observations:                  50   AIC:                             496.2\n",
       "Df Residuals:                      46   BIC:                             503.8\n",
       "Df Model:                           3                                         \n",
       "Covariance Type:            nonrobust                                         \n",
       "==============================================================================\n",
       "                 coef    std err          t      P>|t|      [0.025      0.975]\n",
       "------------------------------------------------------------------------------\n",
       "constant     209.9814    228.987      0.917      0.364    -250.945     670.907\n",
       "takers        -0.1022      0.786     -0.130      0.897      -1.684       1.479\n",
       "income         0.2506      0.156      1.607      0.115      -0.063       0.564\n",
       "rank           8.3385      2.349      3.549      0.001       3.610      13.067\n",
       "==============================================================================\n",
       "Omnibus:                        3.294   Durbin-Watson:                   0.939\n",
       "Prob(Omnibus):                  0.193   Jarque-Bera (JB):                3.114\n",
       "Skew:                          -0.593   Prob(JB):                        0.211\n",
       "Kurtosis:                       2.700   Cond. No.                     1.50e+04\n",
       "==============================================================================\n",
       "\n",
       "Notes:\n",
       "[1] Standard Errors assume that the covariance matrix of the errors is correctly specified.\n",
       "[2] The condition number is large, 1.5e+04. This might indicate that there are\n",
       "strong multicollinearity or other numerical problems.\n",
       "\"\"\""
      ]
     },
     "execution_count": 126,
     "metadata": {},
     "output_type": "execute_result"
    }
   ],
   "source": [
    "X_info_gain = df[['takers', 'income', 'rank']]\n",
    "y=y\n",
    "X_info_gain_with_constant = sm.add_constant(X_info_gain)\n",
    "\n",
    "model_info_gain = sm.OLS(y, X_info_gain_with_constant).fit()\n",
    "model_info_gain.summary(xname=['constant','takers','income','rank'])\n"
   ]
  },
  {
   "cell_type": "markdown",
   "metadata": {},
   "source": [
    "Using **Wrapper technique with exhustive method**\n",
    "['years', 'expend', 'rank']"
   ]
  },
  {
   "cell_type": "code",
   "execution_count": 124,
   "metadata": {},
   "outputs": [
    {
     "data": {
      "text/html": [
       "<table class=\"simpletable\">\n",
       "<caption>OLS Regression Results</caption>\n",
       "<tr>\n",
       "  <th>Dep. Variable:</th>           <td>sat</td>       <th>  R-squared:         </th> <td>   0.871</td>\n",
       "</tr>\n",
       "<tr>\n",
       "  <th>Model:</th>                   <td>OLS</td>       <th>  Adj. R-squared:    </th> <td>   0.863</td>\n",
       "</tr>\n",
       "<tr>\n",
       "  <th>Method:</th>             <td>Least Squares</td>  <th>  F-statistic:       </th> <td>   103.6</td>\n",
       "</tr>\n",
       "<tr>\n",
       "  <th>Date:</th>             <td>Tue, 12 Nov 2024</td> <th>  Prob (F-statistic):</th> <td>1.76e-20</td>\n",
       "</tr>\n",
       "<tr>\n",
       "  <th>Time:</th>                 <td>12:52:24</td>     <th>  Log-Likelihood:    </th> <td> -232.25</td>\n",
       "</tr>\n",
       "<tr>\n",
       "  <th>No. Observations:</th>      <td>    50</td>      <th>  AIC:               </th> <td>   472.5</td>\n",
       "</tr>\n",
       "<tr>\n",
       "  <th>Df Residuals:</th>          <td>    46</td>      <th>  BIC:               </th> <td>   480.2</td>\n",
       "</tr>\n",
       "<tr>\n",
       "  <th>Df Model:</th>              <td>     3</td>      <th>                     </th>     <td> </td>   \n",
       "</tr>\n",
       "<tr>\n",
       "  <th>Covariance Type:</th>      <td>nonrobust</td>    <th>                     </th>     <td> </td>   \n",
       "</tr>\n",
       "</table>\n",
       "<table class=\"simpletable\">\n",
       "<tr>\n",
       "      <td></td>        <th>coef</th>     <th>std err</th>      <th>t</th>      <th>P>|t|</th>  <th>[0.025</th>    <th>0.975]</th>  \n",
       "</tr>\n",
       "<tr>\n",
       "  <th>constant</th> <td> -303.7243</td> <td>   97.842</td> <td>   -3.104</td> <td> 0.003</td> <td> -500.669</td> <td> -106.779</td>\n",
       "</tr>\n",
       "<tr>\n",
       "  <th>years</th>    <td>   26.0952</td> <td>    5.389</td> <td>    4.842</td> <td> 0.000</td> <td>   15.247</td> <td>   36.944</td>\n",
       "</tr>\n",
       "<tr>\n",
       "  <th>expend</th>   <td>    1.8609</td> <td>    0.635</td> <td>    2.930</td> <td> 0.005</td> <td>    0.582</td> <td>    3.139</td>\n",
       "</tr>\n",
       "<tr>\n",
       "  <th>rank</th>     <td>    9.8258</td> <td>    0.599</td> <td>   16.412</td> <td> 0.000</td> <td>    8.621</td> <td>   11.031</td>\n",
       "</tr>\n",
       "</table>\n",
       "<table class=\"simpletable\">\n",
       "<tr>\n",
       "  <th>Omnibus:</th>       <td> 5.236</td> <th>  Durbin-Watson:     </th> <td>   1.454</td>\n",
       "</tr>\n",
       "<tr>\n",
       "  <th>Prob(Omnibus):</th> <td> 0.073</td> <th>  Jarque-Bera (JB):  </th> <td>   4.172</td>\n",
       "</tr>\n",
       "<tr>\n",
       "  <th>Skew:</th>          <td>-0.667</td> <th>  Prob(JB):          </th> <td>   0.124</td>\n",
       "</tr>\n",
       "<tr>\n",
       "  <th>Kurtosis:</th>      <td> 3.473</td> <th>  Cond. No.          </th> <td>2.24e+03</td>\n",
       "</tr>\n",
       "</table><br/><br/>Notes:<br/>[1] Standard Errors assume that the covariance matrix of the errors is correctly specified.<br/>[2] The condition number is large, 2.24e+03. This might indicate that there are<br/>strong multicollinearity or other numerical problems."
      ],
      "text/latex": [
       "\\begin{center}\n",
       "\\begin{tabular}{lclc}\n",
       "\\toprule\n",
       "\\textbf{Dep. Variable:}    &       sat        & \\textbf{  R-squared:         } &     0.871   \\\\\n",
       "\\textbf{Model:}            &       OLS        & \\textbf{  Adj. R-squared:    } &     0.863   \\\\\n",
       "\\textbf{Method:}           &  Least Squares   & \\textbf{  F-statistic:       } &     103.6   \\\\\n",
       "\\textbf{Date:}             & Tue, 12 Nov 2024 & \\textbf{  Prob (F-statistic):} &  1.76e-20   \\\\\n",
       "\\textbf{Time:}             &     12:52:24     & \\textbf{  Log-Likelihood:    } &   -232.25   \\\\\n",
       "\\textbf{No. Observations:} &          50      & \\textbf{  AIC:               } &     472.5   \\\\\n",
       "\\textbf{Df Residuals:}     &          46      & \\textbf{  BIC:               } &     480.2   \\\\\n",
       "\\textbf{Df Model:}         &           3      & \\textbf{                     } &             \\\\\n",
       "\\textbf{Covariance Type:}  &    nonrobust     & \\textbf{                     } &             \\\\\n",
       "\\bottomrule\n",
       "\\end{tabular}\n",
       "\\begin{tabular}{lcccccc}\n",
       "                  & \\textbf{coef} & \\textbf{std err} & \\textbf{t} & \\textbf{P$> |$t$|$} & \\textbf{[0.025} & \\textbf{0.975]}  \\\\\n",
       "\\midrule\n",
       "\\textbf{constant} &    -303.7243  &       97.842     &    -3.104  &         0.003        &     -500.669    &     -106.779     \\\\\n",
       "\\textbf{years}    &      26.0952  &        5.389     &     4.842  &         0.000        &       15.247    &       36.944     \\\\\n",
       "\\textbf{expend}   &       1.8609  &        0.635     &     2.930  &         0.005        &        0.582    &        3.139     \\\\\n",
       "\\textbf{rank}     &       9.8258  &        0.599     &    16.412  &         0.000        &        8.621    &       11.031     \\\\\n",
       "\\bottomrule\n",
       "\\end{tabular}\n",
       "\\begin{tabular}{lclc}\n",
       "\\textbf{Omnibus:}       &  5.236 & \\textbf{  Durbin-Watson:     } &    1.454  \\\\\n",
       "\\textbf{Prob(Omnibus):} &  0.073 & \\textbf{  Jarque-Bera (JB):  } &    4.172  \\\\\n",
       "\\textbf{Skew:}          & -0.667 & \\textbf{  Prob(JB):          } &    0.124  \\\\\n",
       "\\textbf{Kurtosis:}      &  3.473 & \\textbf{  Cond. No.          } & 2.24e+03  \\\\\n",
       "\\bottomrule\n",
       "\\end{tabular}\n",
       "%\\caption{OLS Regression Results}\n",
       "\\end{center}\n",
       "\n",
       "Notes: \\newline\n",
       " [1] Standard Errors assume that the covariance matrix of the errors is correctly specified. \\newline\n",
       " [2] The condition number is large, 2.24e+03. This might indicate that there are \\newline\n",
       " strong multicollinearity or other numerical problems."
      ],
      "text/plain": [
       "<class 'statsmodels.iolib.summary.Summary'>\n",
       "\"\"\"\n",
       "                            OLS Regression Results                            \n",
       "==============================================================================\n",
       "Dep. Variable:                    sat   R-squared:                       0.871\n",
       "Model:                            OLS   Adj. R-squared:                  0.863\n",
       "Method:                 Least Squares   F-statistic:                     103.6\n",
       "Date:                Tue, 12 Nov 2024   Prob (F-statistic):           1.76e-20\n",
       "Time:                        12:52:24   Log-Likelihood:                -232.25\n",
       "No. Observations:                  50   AIC:                             472.5\n",
       "Df Residuals:                      46   BIC:                             480.2\n",
       "Df Model:                           3                                         \n",
       "Covariance Type:            nonrobust                                         \n",
       "==============================================================================\n",
       "                 coef    std err          t      P>|t|      [0.025      0.975]\n",
       "------------------------------------------------------------------------------\n",
       "constant    -303.7243     97.842     -3.104      0.003    -500.669    -106.779\n",
       "years         26.0952      5.389      4.842      0.000      15.247      36.944\n",
       "expend         1.8609      0.635      2.930      0.005       0.582       3.139\n",
       "rank           9.8258      0.599     16.412      0.000       8.621      11.031\n",
       "==============================================================================\n",
       "Omnibus:                        5.236   Durbin-Watson:                   1.454\n",
       "Prob(Omnibus):                  0.073   Jarque-Bera (JB):                4.172\n",
       "Skew:                          -0.667   Prob(JB):                        0.124\n",
       "Kurtosis:                       3.473   Cond. No.                     2.24e+03\n",
       "==============================================================================\n",
       "\n",
       "Notes:\n",
       "[1] Standard Errors assume that the covariance matrix of the errors is correctly specified.\n",
       "[2] The condition number is large, 2.24e+03. This might indicate that there are\n",
       "strong multicollinearity or other numerical problems.\n",
       "\"\"\""
      ]
     },
     "execution_count": 124,
     "metadata": {},
     "output_type": "execute_result"
    }
   ],
   "source": [
    "X_exhustive_feature = df[['years', 'expend', 'rank']]\n",
    "y=y\n",
    "X_exhustive_feature_with_constant = sm.add_constant(X_exhustive_feature)\n",
    "\n",
    "model_exhustive_feature = sm.OLS(y, X_exhustive_feature_with_constant).fit()\n",
    "model_exhustive_feature.summary(xname=['constant','years','expend','rank'])\n"
   ]
  },
  {
   "cell_type": "markdown",
   "metadata": {},
   "source": [
    "Using **Embedded technique with ElasticNet method**\n",
    "['years', 'expend', 'rank']"
   ]
  },
  {
   "cell_type": "code",
   "execution_count": 125,
   "metadata": {},
   "outputs": [
    {
     "data": {
      "text/html": [
       "<table class=\"simpletable\">\n",
       "<caption>OLS Regression Results</caption>\n",
       "<tr>\n",
       "  <th>Dep. Variable:</th>           <td>sat</td>       <th>  R-squared:         </th> <td>   0.871</td>\n",
       "</tr>\n",
       "<tr>\n",
       "  <th>Model:</th>                   <td>OLS</td>       <th>  Adj. R-squared:    </th> <td>   0.863</td>\n",
       "</tr>\n",
       "<tr>\n",
       "  <th>Method:</th>             <td>Least Squares</td>  <th>  F-statistic:       </th> <td>   103.6</td>\n",
       "</tr>\n",
       "<tr>\n",
       "  <th>Date:</th>             <td>Tue, 12 Nov 2024</td> <th>  Prob (F-statistic):</th> <td>1.76e-20</td>\n",
       "</tr>\n",
       "<tr>\n",
       "  <th>Time:</th>                 <td>12:55:31</td>     <th>  Log-Likelihood:    </th> <td> -232.25</td>\n",
       "</tr>\n",
       "<tr>\n",
       "  <th>No. Observations:</th>      <td>    50</td>      <th>  AIC:               </th> <td>   472.5</td>\n",
       "</tr>\n",
       "<tr>\n",
       "  <th>Df Residuals:</th>          <td>    46</td>      <th>  BIC:               </th> <td>   480.2</td>\n",
       "</tr>\n",
       "<tr>\n",
       "  <th>Df Model:</th>              <td>     3</td>      <th>                     </th>     <td> </td>   \n",
       "</tr>\n",
       "<tr>\n",
       "  <th>Covariance Type:</th>      <td>nonrobust</td>    <th>                     </th>     <td> </td>   \n",
       "</tr>\n",
       "</table>\n",
       "<table class=\"simpletable\">\n",
       "<tr>\n",
       "      <td></td>        <th>coef</th>     <th>std err</th>      <th>t</th>      <th>P>|t|</th>  <th>[0.025</th>    <th>0.975]</th>  \n",
       "</tr>\n",
       "<tr>\n",
       "  <th>constant</th> <td> -303.7243</td> <td>   97.842</td> <td>   -3.104</td> <td> 0.003</td> <td> -500.669</td> <td> -106.779</td>\n",
       "</tr>\n",
       "<tr>\n",
       "  <th>years</th>    <td>   26.0952</td> <td>    5.389</td> <td>    4.842</td> <td> 0.000</td> <td>   15.247</td> <td>   36.944</td>\n",
       "</tr>\n",
       "<tr>\n",
       "  <th>expend</th>   <td>    1.8609</td> <td>    0.635</td> <td>    2.930</td> <td> 0.005</td> <td>    0.582</td> <td>    3.139</td>\n",
       "</tr>\n",
       "<tr>\n",
       "  <th>rank</th>     <td>    9.8258</td> <td>    0.599</td> <td>   16.412</td> <td> 0.000</td> <td>    8.621</td> <td>   11.031</td>\n",
       "</tr>\n",
       "</table>\n",
       "<table class=\"simpletable\">\n",
       "<tr>\n",
       "  <th>Omnibus:</th>       <td> 5.236</td> <th>  Durbin-Watson:     </th> <td>   1.454</td>\n",
       "</tr>\n",
       "<tr>\n",
       "  <th>Prob(Omnibus):</th> <td> 0.073</td> <th>  Jarque-Bera (JB):  </th> <td>   4.172</td>\n",
       "</tr>\n",
       "<tr>\n",
       "  <th>Skew:</th>          <td>-0.667</td> <th>  Prob(JB):          </th> <td>   0.124</td>\n",
       "</tr>\n",
       "<tr>\n",
       "  <th>Kurtosis:</th>      <td> 3.473</td> <th>  Cond. No.          </th> <td>2.24e+03</td>\n",
       "</tr>\n",
       "</table><br/><br/>Notes:<br/>[1] Standard Errors assume that the covariance matrix of the errors is correctly specified.<br/>[2] The condition number is large, 2.24e+03. This might indicate that there are<br/>strong multicollinearity or other numerical problems."
      ],
      "text/latex": [
       "\\begin{center}\n",
       "\\begin{tabular}{lclc}\n",
       "\\toprule\n",
       "\\textbf{Dep. Variable:}    &       sat        & \\textbf{  R-squared:         } &     0.871   \\\\\n",
       "\\textbf{Model:}            &       OLS        & \\textbf{  Adj. R-squared:    } &     0.863   \\\\\n",
       "\\textbf{Method:}           &  Least Squares   & \\textbf{  F-statistic:       } &     103.6   \\\\\n",
       "\\textbf{Date:}             & Tue, 12 Nov 2024 & \\textbf{  Prob (F-statistic):} &  1.76e-20   \\\\\n",
       "\\textbf{Time:}             &     12:55:31     & \\textbf{  Log-Likelihood:    } &   -232.25   \\\\\n",
       "\\textbf{No. Observations:} &          50      & \\textbf{  AIC:               } &     472.5   \\\\\n",
       "\\textbf{Df Residuals:}     &          46      & \\textbf{  BIC:               } &     480.2   \\\\\n",
       "\\textbf{Df Model:}         &           3      & \\textbf{                     } &             \\\\\n",
       "\\textbf{Covariance Type:}  &    nonrobust     & \\textbf{                     } &             \\\\\n",
       "\\bottomrule\n",
       "\\end{tabular}\n",
       "\\begin{tabular}{lcccccc}\n",
       "                  & \\textbf{coef} & \\textbf{std err} & \\textbf{t} & \\textbf{P$> |$t$|$} & \\textbf{[0.025} & \\textbf{0.975]}  \\\\\n",
       "\\midrule\n",
       "\\textbf{constant} &    -303.7243  &       97.842     &    -3.104  &         0.003        &     -500.669    &     -106.779     \\\\\n",
       "\\textbf{years}    &      26.0952  &        5.389     &     4.842  &         0.000        &       15.247    &       36.944     \\\\\n",
       "\\textbf{expend}   &       1.8609  &        0.635     &     2.930  &         0.005        &        0.582    &        3.139     \\\\\n",
       "\\textbf{rank}     &       9.8258  &        0.599     &    16.412  &         0.000        &        8.621    &       11.031     \\\\\n",
       "\\bottomrule\n",
       "\\end{tabular}\n",
       "\\begin{tabular}{lclc}\n",
       "\\textbf{Omnibus:}       &  5.236 & \\textbf{  Durbin-Watson:     } &    1.454  \\\\\n",
       "\\textbf{Prob(Omnibus):} &  0.073 & \\textbf{  Jarque-Bera (JB):  } &    4.172  \\\\\n",
       "\\textbf{Skew:}          & -0.667 & \\textbf{  Prob(JB):          } &    0.124  \\\\\n",
       "\\textbf{Kurtosis:}      &  3.473 & \\textbf{  Cond. No.          } & 2.24e+03  \\\\\n",
       "\\bottomrule\n",
       "\\end{tabular}\n",
       "%\\caption{OLS Regression Results}\n",
       "\\end{center}\n",
       "\n",
       "Notes: \\newline\n",
       " [1] Standard Errors assume that the covariance matrix of the errors is correctly specified. \\newline\n",
       " [2] The condition number is large, 2.24e+03. This might indicate that there are \\newline\n",
       " strong multicollinearity or other numerical problems."
      ],
      "text/plain": [
       "<class 'statsmodels.iolib.summary.Summary'>\n",
       "\"\"\"\n",
       "                            OLS Regression Results                            \n",
       "==============================================================================\n",
       "Dep. Variable:                    sat   R-squared:                       0.871\n",
       "Model:                            OLS   Adj. R-squared:                  0.863\n",
       "Method:                 Least Squares   F-statistic:                     103.6\n",
       "Date:                Tue, 12 Nov 2024   Prob (F-statistic):           1.76e-20\n",
       "Time:                        12:55:31   Log-Likelihood:                -232.25\n",
       "No. Observations:                  50   AIC:                             472.5\n",
       "Df Residuals:                      46   BIC:                             480.2\n",
       "Df Model:                           3                                         \n",
       "Covariance Type:            nonrobust                                         \n",
       "==============================================================================\n",
       "                 coef    std err          t      P>|t|      [0.025      0.975]\n",
       "------------------------------------------------------------------------------\n",
       "constant    -303.7243     97.842     -3.104      0.003    -500.669    -106.779\n",
       "years         26.0952      5.389      4.842      0.000      15.247      36.944\n",
       "expend         1.8609      0.635      2.930      0.005       0.582       3.139\n",
       "rank           9.8258      0.599     16.412      0.000       8.621      11.031\n",
       "==============================================================================\n",
       "Omnibus:                        5.236   Durbin-Watson:                   1.454\n",
       "Prob(Omnibus):                  0.073   Jarque-Bera (JB):                4.172\n",
       "Skew:                          -0.667   Prob(JB):                        0.124\n",
       "Kurtosis:                       3.473   Cond. No.                     2.24e+03\n",
       "==============================================================================\n",
       "\n",
       "Notes:\n",
       "[1] Standard Errors assume that the covariance matrix of the errors is correctly specified.\n",
       "[2] The condition number is large, 2.24e+03. This might indicate that there are\n",
       "strong multicollinearity or other numerical problems.\n",
       "\"\"\""
      ]
     },
     "execution_count": 125,
     "metadata": {},
     "output_type": "execute_result"
    }
   ],
   "source": [
    "X_elastic_net_feature = df[['years', 'expend', 'rank']]\n",
    "y=y\n",
    "X_elastic_net_with_constant = sm.add_constant(X_elastic_net_feature)\n",
    "\n",
    "model_elastic_net_feature = sm.OLS(y, X_elastic_net_with_constant).fit()\n",
    "model_elastic_net_feature.summary(xname=['constant','years', 'expend', 'rank'])\n"
   ]
  },
  {
   "cell_type": "markdown",
   "metadata": {},
   "source": [
    "**Question 4.**\tDid you expect to see any differences between the “best features” in the different models you chose? Do you see any significant differences? (answer this using a markdown cell in the .ipynb file)."
   ]
  },
  {
   "cell_type": "markdown",
   "metadata": {},
   "source": [
    "**Summary** For the **controlled regression** model i.e. when **fetures selection** is taken place using different feature selection technique. It obvously **improved** the model **compared to the simple regression models**. Also,  **remained competitive** (0.871) with the **full linear regression** (0.879).\n",
    "So, feature selection is a better compared to the full regression model where it is computationally intensive when there are large no of features."
   ]
  },
  {
   "cell_type": "markdown",
   "metadata": {},
   "source": [
    "**Question 5.**\tCalculate the Principal Components for the same data set: (a) Normalize the data, (b) display correlation and covariance tables fort the normalized data, build the PCA following the in-class model, and finally display the explained variance for all the principal components."
   ]
  },
  {
   "cell_type": "code",
   "execution_count": null,
   "metadata": {},
   "outputs": [],
   "source": [
    "# Normalizing the data\n",
    "scalar = StandardScaler()\n",
    "X_full_scaled = scalar.fit_transform(X_full)\n",
    "df_for_scalled = pd.DataFrame(X_full_scaled)\n",
    "\n",
    "# correlation matrix for a scalled data\n",
    "correlation_matrix = df_for_scalled.corr()\n",
    "correlation_matrix"
   ]
  },
  {
   "cell_type": "code",
   "execution_count": 139,
   "metadata": {},
   "outputs": [
    {
     "data": {
      "text/plain": [
       "<Axes: >"
      ]
     },
     "execution_count": 139,
     "metadata": {},
     "output_type": "execute_result"
    },
    {
     "data": {
      "image/png": "[encoded data removed]",
      "text/plain": [
       "<Figure size 640x480 with 2 Axes>"
      ]
     },
     "metadata": {},
     "output_type": "display_data"
    }
   ],
   "source": [
    "sns.heatmap(correlation_matrix, annot=True, cmap='viridis')"
   ]
  },
  {
   "cell_type": "code",
   "execution_count": 130,
   "metadata": {},
   "outputs": [
    {
     "data": {
      "text/html": [
       "<div>\n",
       "<style scoped>\n",
       "    .dataframe tbody tr th:only-of-type {\n",
       "        vertical-align: middle;\n",
       "    }\n",
       "\n",
       "    .dataframe tbody tr th {\n",
       "        vertical-align: top;\n",
       "    }\n",
       "\n",
       "    .dataframe thead th {\n",
       "        text-align: right;\n",
       "    }\n",
       "</style>\n",
       "<table border=\"1\" class=\"dataframe\">\n",
       "  <thead>\n",
       "    <tr style=\"text-align: right;\">\n",
       "      <th></th>\n",
       "      <th>0</th>\n",
       "      <th>1</th>\n",
       "      <th>2</th>\n",
       "      <th>3</th>\n",
       "      <th>4</th>\n",
       "      <th>5</th>\n",
       "    </tr>\n",
       "  </thead>\n",
       "  <tbody>\n",
       "    <tr>\n",
       "      <th>0</th>\n",
       "      <td>1.020408</td>\n",
       "      <td>-0.675444</td>\n",
       "      <td>-0.103616</td>\n",
       "      <td>0.126078</td>\n",
       "      <td>0.289419</td>\n",
       "      <td>-0.962075</td>\n",
       "    </tr>\n",
       "    <tr>\n",
       "      <th>1</th>\n",
       "      <td>-0.675444</td>\n",
       "      <td>1.020408</td>\n",
       "      <td>0.137513</td>\n",
       "      <td>-0.312823</td>\n",
       "      <td>0.134203</td>\n",
       "      <td>0.543571</td>\n",
       "    </tr>\n",
       "    <tr>\n",
       "      <th>2</th>\n",
       "      <td>-0.103616</td>\n",
       "      <td>0.137513</td>\n",
       "      <td>1.020408</td>\n",
       "      <td>-0.425631</td>\n",
       "      <td>0.061050</td>\n",
       "      <td>0.071657</td>\n",
       "    </tr>\n",
       "    <tr>\n",
       "      <th>3</th>\n",
       "      <td>0.126078</td>\n",
       "      <td>-0.312823</td>\n",
       "      <td>-0.425631</td>\n",
       "      <td>1.020408</td>\n",
       "      <td>0.290399</td>\n",
       "      <td>0.051657</td>\n",
       "    </tr>\n",
       "    <tr>\n",
       "      <th>4</th>\n",
       "      <td>0.289419</td>\n",
       "      <td>0.134203</td>\n",
       "      <td>0.061050</td>\n",
       "      <td>0.290399</td>\n",
       "      <td>1.020408</td>\n",
       "      <td>-0.270376</td>\n",
       "    </tr>\n",
       "    <tr>\n",
       "      <th>5</th>\n",
       "      <td>-0.962075</td>\n",
       "      <td>0.543571</td>\n",
       "      <td>0.071657</td>\n",
       "      <td>0.051657</td>\n",
       "      <td>-0.270376</td>\n",
       "      <td>1.020408</td>\n",
       "    </tr>\n",
       "  </tbody>\n",
       "</table>\n",
       "</div>"
      ],
      "text/plain": [
       "          0         1         2         3         4         5\n",
       "0  1.020408 -0.675444 -0.103616  0.126078  0.289419 -0.962075\n",
       "1 -0.675444  1.020408  0.137513 -0.312823  0.134203  0.543571\n",
       "2 -0.103616  0.137513  1.020408 -0.425631  0.061050  0.071657\n",
       "3  0.126078 -0.312823 -0.425631  1.020408  0.290399  0.051657\n",
       "4  0.289419  0.134203  0.061050  0.290399  1.020408 -0.270376\n",
       "5 -0.962075  0.543571  0.071657  0.051657 -0.270376  1.020408"
      ]
     },
     "execution_count": 130,
     "metadata": {},
     "output_type": "execute_result"
    }
   ],
   "source": [
    "# covarience matrix for a scalled data\n",
    "covariance_matrix = df_for_scalled.cov()\n",
    "covariance_matrix"
   ]
  },
  {
   "cell_type": "code",
   "execution_count": 133,
   "metadata": {},
   "outputs": [
    {
     "data": {
      "text/plain": [
       "<Axes: >"
      ]
     },
     "execution_count": 133,
     "metadata": {},
     "output_type": "execute_result"
    },
    {
     "data": {
      "image/png": "[encoded data removed]",
      "text/plain": [
       "<Figure size 640x480 with 2 Axes>"
      ]
     },
     "metadata": {},
     "output_type": "display_data"
    }
   ],
   "source": [
    "sns.heatmap(covariance_matrix, annot=True, cmap='coolwarm')"
   ]
  },
  {
   "cell_type": "code",
   "execution_count": 146,
   "metadata": {},
   "outputs": [],
   "source": [
    "# Using PCA\n",
    "from sklearn.decomposition import PCA\n",
    "\n",
    "pca = PCA()\n",
    "principalComponents = pca.fit_transform(X_full_scaled)\n"
   ]
  },
  {
   "cell_type": "markdown",
   "metadata": {},
   "source": [
    "**Variance of features generated by the PCA is given as :**"
   ]
  },
  {
   "cell_type": "code",
   "execution_count": 164,
   "metadata": {},
   "outputs": [
    {
     "name": "stdout",
     "output_type": "stream",
     "text": [
      "Variance of each features: [2.61650067 1.43781535 1.17356773 0.68595299 0.17366458 0.03494766]\n"
     ]
    }
   ],
   "source": [
    "print(\"Variance of each features:\", pca.explained_variance_)"
   ]
  },
  {
   "cell_type": "code",
   "execution_count": 165,
   "metadata": {},
   "outputs": [
    {
     "data": {
      "text/plain": [
       "array([2.61650067, 1.43781535, 1.17356773, 0.68595299, 0.17366458,\n",
       "       0.03494766])"
      ]
     },
     "execution_count": 165,
     "metadata": {},
     "output_type": "execute_result"
    },
    {
     "data": {
      "image/png": "[encoded data removed]",
      "text/plain": [
       "<Figure size 640x480 with 1 Axes>"
      ]
     },
     "metadata": {},
     "output_type": "display_data"
    }
   ],
   "source": [
    "from matplotlib import pyplot as plt\n",
    "\n",
    "plt.bar(range(1,len(pca.explained_variance_)+1),pca.explained_variance_)\n",
    "pca.explained_variance_"
   ]
  },
  {
   "cell_type": "markdown",
   "metadata": {},
   "source": [
    "**Question 6.**\tIn your opinion, what is the “best” number of Principal Components to use? (again, answer using a markdown cell)."
   ]
  },
  {
   "cell_type": "markdown",
   "metadata": {},
   "source": [
    "**Answer:** The first four componest contribute the most variance in the dataset. So n = 4 would be better for to build a model."
   ]
  }
 ],
 "metadata": {
  "kernelspec": {
   "display_name": "base",
   "language": "python",
   "name": "python3"
  },
  "language_info": {
   "codemirror_mode": {
    "name": "ipython",
    "version": 3
   },
   "file_extension": ".py",
   "mimetype": "text/x-python",
   "name": "python",
   "nbconvert_exporter": "python",
   "pygments_lexer": "ipython3",
   "version": "3.12.4"
  }
 },
 "nbformat": 4,
 "nbformat_minor": 2
}
